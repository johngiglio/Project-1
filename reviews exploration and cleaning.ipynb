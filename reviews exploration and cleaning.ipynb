{
 "cells": [
  {
   "cell_type": "markdown",
   "metadata": {},
   "source": [
    "## Identify businesses to use as data points. \n",
    "Create subset df of reviews from HAUs and count by business name to find most reviewed businesses.\n",
    "Do for all cities at once. Assess relationship between sample and population for each city as well as the total set."
   ]
  },
  {
   "cell_type": "code",
   "execution_count": 78,
   "metadata": {},
   "outputs": [],
   "source": [
    "import pandas as pd\n",
    "import numpy as np\n",
    "import matplotlib.pyplot as plt\n",
    "import timeit\n",
    "from vaderSentiment.vaderSentiment import SentimentIntensityAnalyzer\n",
    "analyzer = SentimentIntensityAnalyzer()"
   ]
  },
  {
   "cell_type": "code",
   "execution_count": 79,
   "metadata": {},
   "outputs": [],
   "source": [
    "reviews = pd.read_csv('../8 - Project 1/Local Files/yelp_review.csv')"
   ]
  },
  {
   "cell_type": "code",
   "execution_count": 80,
   "metadata": {},
   "outputs": [],
   "source": [
    "elite_users = pd.read_csv('elite_users.csv')"
   ]
  },
  {
   "cell_type": "code",
   "execution_count": 81,
   "metadata": {},
   "outputs": [],
   "source": [
    "row_users = pd.read_csv('row_users.csv')"
   ]
  },
  {
   "cell_type": "code",
   "execution_count": 82,
   "metadata": {
    "scrolled": false
   },
   "outputs": [
    {
     "data": {
      "text/html": [
       "<div>\n",
       "<style scoped>\n",
       "    .dataframe tbody tr th:only-of-type {\n",
       "        vertical-align: middle;\n",
       "    }\n",
       "\n",
       "    .dataframe tbody tr th {\n",
       "        vertical-align: top;\n",
       "    }\n",
       "\n",
       "    .dataframe thead th {\n",
       "        text-align: right;\n",
       "    }\n",
       "</style>\n",
       "<table border=\"1\" class=\"dataframe\">\n",
       "  <thead>\n",
       "    <tr style=\"text-align: right;\">\n",
       "      <th></th>\n",
       "      <th>review_id</th>\n",
       "      <th>user_id</th>\n",
       "      <th>business_id</th>\n",
       "      <th>stars</th>\n",
       "      <th>date</th>\n",
       "      <th>text</th>\n",
       "      <th>useful</th>\n",
       "      <th>funny</th>\n",
       "      <th>cool</th>\n",
       "    </tr>\n",
       "  </thead>\n",
       "  <tbody>\n",
       "    <tr>\n",
       "      <th>0</th>\n",
       "      <td>vkVSCC7xljjrAI4UGfnKEQ</td>\n",
       "      <td>bv2nCi5Qv5vroFiqKGopiw</td>\n",
       "      <td>AEx2SYEUJmTxVVB18LlCwA</td>\n",
       "      <td>5</td>\n",
       "      <td>2016-05-28</td>\n",
       "      <td>Super simple place but amazing nonetheless. It...</td>\n",
       "      <td>0</td>\n",
       "      <td>0</td>\n",
       "      <td>0</td>\n",
       "    </tr>\n",
       "    <tr>\n",
       "      <th>1</th>\n",
       "      <td>n6QzIUObkYshz4dz2QRJTw</td>\n",
       "      <td>bv2nCi5Qv5vroFiqKGopiw</td>\n",
       "      <td>VR6GpWIda3SfvPC-lg9H3w</td>\n",
       "      <td>5</td>\n",
       "      <td>2016-05-28</td>\n",
       "      <td>Small unassuming place that changes their menu...</td>\n",
       "      <td>0</td>\n",
       "      <td>0</td>\n",
       "      <td>0</td>\n",
       "    </tr>\n",
       "    <tr>\n",
       "      <th>2</th>\n",
       "      <td>MV3CcKScW05u5LVfF6ok0g</td>\n",
       "      <td>bv2nCi5Qv5vroFiqKGopiw</td>\n",
       "      <td>CKC0-MOWMqoeWf6s-szl8g</td>\n",
       "      <td>5</td>\n",
       "      <td>2016-05-28</td>\n",
       "      <td>Lester's is located in a beautiful neighborhoo...</td>\n",
       "      <td>0</td>\n",
       "      <td>0</td>\n",
       "      <td>0</td>\n",
       "    </tr>\n",
       "    <tr>\n",
       "      <th>3</th>\n",
       "      <td>IXvOzsEMYtiJI0CARmj77Q</td>\n",
       "      <td>bv2nCi5Qv5vroFiqKGopiw</td>\n",
       "      <td>ACFtxLv8pGrrxMm6EgjreA</td>\n",
       "      <td>4</td>\n",
       "      <td>2016-05-28</td>\n",
       "      <td>Love coming here. Yes the place always needs t...</td>\n",
       "      <td>0</td>\n",
       "      <td>0</td>\n",
       "      <td>0</td>\n",
       "    </tr>\n",
       "    <tr>\n",
       "      <th>4</th>\n",
       "      <td>L_9BTb55X0GDtThi6GlZ6w</td>\n",
       "      <td>bv2nCi5Qv5vroFiqKGopiw</td>\n",
       "      <td>s2I_Ni76bjJNK9yG60iD-Q</td>\n",
       "      <td>4</td>\n",
       "      <td>2016-05-28</td>\n",
       "      <td>Had their chocolate almond croissant and it wa...</td>\n",
       "      <td>0</td>\n",
       "      <td>0</td>\n",
       "      <td>0</td>\n",
       "    </tr>\n",
       "  </tbody>\n",
       "</table>\n",
       "</div>"
      ],
      "text/plain": [
       "                review_id                 user_id             business_id  \\\n",
       "0  vkVSCC7xljjrAI4UGfnKEQ  bv2nCi5Qv5vroFiqKGopiw  AEx2SYEUJmTxVVB18LlCwA   \n",
       "1  n6QzIUObkYshz4dz2QRJTw  bv2nCi5Qv5vroFiqKGopiw  VR6GpWIda3SfvPC-lg9H3w   \n",
       "2  MV3CcKScW05u5LVfF6ok0g  bv2nCi5Qv5vroFiqKGopiw  CKC0-MOWMqoeWf6s-szl8g   \n",
       "3  IXvOzsEMYtiJI0CARmj77Q  bv2nCi5Qv5vroFiqKGopiw  ACFtxLv8pGrrxMm6EgjreA   \n",
       "4  L_9BTb55X0GDtThi6GlZ6w  bv2nCi5Qv5vroFiqKGopiw  s2I_Ni76bjJNK9yG60iD-Q   \n",
       "\n",
       "   stars        date                                               text  \\\n",
       "0      5  2016-05-28  Super simple place but amazing nonetheless. It...   \n",
       "1      5  2016-05-28  Small unassuming place that changes their menu...   \n",
       "2      5  2016-05-28  Lester's is located in a beautiful neighborhoo...   \n",
       "3      4  2016-05-28  Love coming here. Yes the place always needs t...   \n",
       "4      4  2016-05-28  Had their chocolate almond croissant and it wa...   \n",
       "\n",
       "   useful  funny  cool  \n",
       "0       0      0     0  \n",
       "1       0      0     0  \n",
       "2       0      0     0  \n",
       "3       0      0     0  \n",
       "4       0      0     0  "
      ]
     },
     "execution_count": 82,
     "metadata": {},
     "output_type": "execute_result"
    }
   ],
   "source": [
    "reviews.head()"
   ]
  },
  {
   "cell_type": "code",
   "execution_count": 83,
   "metadata": {
    "scrolled": true
   },
   "outputs": [
    {
     "name": "stdout",
     "output_type": "stream",
     "text": [
      "<class 'pandas.core.frame.DataFrame'>\n",
      "RangeIndex: 5261668 entries, 0 to 5261667\n",
      "Data columns (total 9 columns):\n",
      "review_id      object\n",
      "user_id        object\n",
      "business_id    object\n",
      "stars          int64\n",
      "date           object\n",
      "text           object\n",
      "useful         int64\n",
      "funny          int64\n",
      "cool           int64\n",
      "dtypes: int64(4), object(5)\n",
      "memory usage: 361.3+ MB\n"
     ]
    }
   ],
   "source": [
    "reviews.info()"
   ]
  },
  {
   "cell_type": "code",
   "execution_count": 84,
   "metadata": {},
   "outputs": [
    {
     "data": {
      "text/html": [
       "<div>\n",
       "<style scoped>\n",
       "    .dataframe tbody tr th:only-of-type {\n",
       "        vertical-align: middle;\n",
       "    }\n",
       "\n",
       "    .dataframe tbody tr th {\n",
       "        vertical-align: top;\n",
       "    }\n",
       "\n",
       "    .dataframe thead th {\n",
       "        text-align: right;\n",
       "    }\n",
       "</style>\n",
       "<table border=\"1\" class=\"dataframe\">\n",
       "  <thead>\n",
       "    <tr style=\"text-align: right;\">\n",
       "      <th></th>\n",
       "      <th>stars</th>\n",
       "      <th>useful</th>\n",
       "      <th>funny</th>\n",
       "      <th>cool</th>\n",
       "    </tr>\n",
       "  </thead>\n",
       "  <tbody>\n",
       "    <tr>\n",
       "      <th>count</th>\n",
       "      <td>5.261668e+06</td>\n",
       "      <td>5.261668e+06</td>\n",
       "      <td>5.261668e+06</td>\n",
       "      <td>5.261668e+06</td>\n",
       "    </tr>\n",
       "    <tr>\n",
       "      <th>mean</th>\n",
       "      <td>3.727739e+00</td>\n",
       "      <td>1.385085e+00</td>\n",
       "      <td>5.091961e-01</td>\n",
       "      <td>5.860917e-01</td>\n",
       "    </tr>\n",
       "    <tr>\n",
       "      <th>std</th>\n",
       "      <td>1.433593e+00</td>\n",
       "      <td>4.528727e+00</td>\n",
       "      <td>2.686168e+00</td>\n",
       "      <td>2.233706e+00</td>\n",
       "    </tr>\n",
       "    <tr>\n",
       "      <th>min</th>\n",
       "      <td>1.000000e+00</td>\n",
       "      <td>-1.000000e+00</td>\n",
       "      <td>0.000000e+00</td>\n",
       "      <td>-1.000000e+00</td>\n",
       "    </tr>\n",
       "    <tr>\n",
       "      <th>25%</th>\n",
       "      <td>3.000000e+00</td>\n",
       "      <td>0.000000e+00</td>\n",
       "      <td>0.000000e+00</td>\n",
       "      <td>0.000000e+00</td>\n",
       "    </tr>\n",
       "    <tr>\n",
       "      <th>50%</th>\n",
       "      <td>4.000000e+00</td>\n",
       "      <td>0.000000e+00</td>\n",
       "      <td>0.000000e+00</td>\n",
       "      <td>0.000000e+00</td>\n",
       "    </tr>\n",
       "    <tr>\n",
       "      <th>75%</th>\n",
       "      <td>5.000000e+00</td>\n",
       "      <td>2.000000e+00</td>\n",
       "      <td>0.000000e+00</td>\n",
       "      <td>1.000000e+00</td>\n",
       "    </tr>\n",
       "    <tr>\n",
       "      <th>max</th>\n",
       "      <td>5.000000e+00</td>\n",
       "      <td>3.364000e+03</td>\n",
       "      <td>1.481000e+03</td>\n",
       "      <td>1.105000e+03</td>\n",
       "    </tr>\n",
       "  </tbody>\n",
       "</table>\n",
       "</div>"
      ],
      "text/plain": [
       "              stars        useful         funny          cool\n",
       "count  5.261668e+06  5.261668e+06  5.261668e+06  5.261668e+06\n",
       "mean   3.727739e+00  1.385085e+00  5.091961e-01  5.860917e-01\n",
       "std    1.433593e+00  4.528727e+00  2.686168e+00  2.233706e+00\n",
       "min    1.000000e+00 -1.000000e+00  0.000000e+00 -1.000000e+00\n",
       "25%    3.000000e+00  0.000000e+00  0.000000e+00  0.000000e+00\n",
       "50%    4.000000e+00  0.000000e+00  0.000000e+00  0.000000e+00\n",
       "75%    5.000000e+00  2.000000e+00  0.000000e+00  1.000000e+00\n",
       "max    5.000000e+00  3.364000e+03  1.481000e+03  1.105000e+03"
      ]
     },
     "execution_count": 84,
     "metadata": {},
     "output_type": "execute_result"
    }
   ],
   "source": [
    "reviews.describe()"
   ]
  },
  {
   "cell_type": "code",
   "execution_count": 85,
   "metadata": {
    "scrolled": true
   },
   "outputs": [
    {
     "data": {
      "text/html": [
       "<div>\n",
       "<style scoped>\n",
       "    .dataframe tbody tr th:only-of-type {\n",
       "        vertical-align: middle;\n",
       "    }\n",
       "\n",
       "    .dataframe tbody tr th {\n",
       "        vertical-align: top;\n",
       "    }\n",
       "\n",
       "    .dataframe thead th {\n",
       "        text-align: right;\n",
       "    }\n",
       "</style>\n",
       "<table border=\"1\" class=\"dataframe\">\n",
       "  <thead>\n",
       "    <tr style=\"text-align: right;\">\n",
       "      <th></th>\n",
       "      <th>Unnamed: 0</th>\n",
       "      <th>user_id</th>\n",
       "      <th>name</th>\n",
       "      <th>review_count</th>\n",
       "      <th>yelping_since</th>\n",
       "      <th>friends</th>\n",
       "      <th>useful</th>\n",
       "      <th>funny</th>\n",
       "      <th>cool</th>\n",
       "      <th>fans</th>\n",
       "      <th>...</th>\n",
       "      <th>compliment_profile</th>\n",
       "      <th>compliment_cute</th>\n",
       "      <th>compliment_list</th>\n",
       "      <th>compliment_note</th>\n",
       "      <th>compliment_plain</th>\n",
       "      <th>compliment_cool</th>\n",
       "      <th>compliment_funny</th>\n",
       "      <th>compliment_writer</th>\n",
       "      <th>compliment_photos</th>\n",
       "      <th># elite years</th>\n",
       "    </tr>\n",
       "  </thead>\n",
       "  <tbody>\n",
       "    <tr>\n",
       "      <th>0</th>\n",
       "      <td>44</td>\n",
       "      <td>fV8Yr0c5tFQTQ2SRRJHXHw</td>\n",
       "      <td>Michelle</td>\n",
       "      <td>50</td>\n",
       "      <td>2007-08-22</td>\n",
       "      <td>HDb4fBWIAQ-foS8qLJty9w, x0hBZsmBTYxhjjx0MShz1A...</td>\n",
       "      <td>43</td>\n",
       "      <td>12</td>\n",
       "      <td>5</td>\n",
       "      <td>1</td>\n",
       "      <td>...</td>\n",
       "      <td>0</td>\n",
       "      <td>0</td>\n",
       "      <td>0</td>\n",
       "      <td>9</td>\n",
       "      <td>7</td>\n",
       "      <td>7</td>\n",
       "      <td>7</td>\n",
       "      <td>4</td>\n",
       "      <td>0</td>\n",
       "      <td>1</td>\n",
       "    </tr>\n",
       "    <tr>\n",
       "      <th>1</th>\n",
       "      <td>74</td>\n",
       "      <td>aw973Pm1nrTbRjP4zY9B9g</td>\n",
       "      <td>Kenny</td>\n",
       "      <td>762</td>\n",
       "      <td>2008-09-23</td>\n",
       "      <td>Cit5yho-DqotA0BnXHErTQ, bm2DqfP4P454FjEtCbZdkQ...</td>\n",
       "      <td>174</td>\n",
       "      <td>151</td>\n",
       "      <td>67</td>\n",
       "      <td>27</td>\n",
       "      <td>...</td>\n",
       "      <td>2</td>\n",
       "      <td>7</td>\n",
       "      <td>0</td>\n",
       "      <td>16</td>\n",
       "      <td>52</td>\n",
       "      <td>47</td>\n",
       "      <td>47</td>\n",
       "      <td>14</td>\n",
       "      <td>1</td>\n",
       "      <td>7</td>\n",
       "    </tr>\n",
       "    <tr>\n",
       "      <th>2</th>\n",
       "      <td>246</td>\n",
       "      <td>i5jSTSpXJtvM-ExWRttglw</td>\n",
       "      <td>Evelina</td>\n",
       "      <td>85</td>\n",
       "      <td>2014-03-17</td>\n",
       "      <td>aLvxbF2DueKFOqul9eVWCw, JesJ-LaNfr3pKhL7gWhDrw...</td>\n",
       "      <td>51</td>\n",
       "      <td>12</td>\n",
       "      <td>33</td>\n",
       "      <td>13</td>\n",
       "      <td>...</td>\n",
       "      <td>0</td>\n",
       "      <td>0</td>\n",
       "      <td>0</td>\n",
       "      <td>5</td>\n",
       "      <td>16</td>\n",
       "      <td>13</td>\n",
       "      <td>13</td>\n",
       "      <td>14</td>\n",
       "      <td>4</td>\n",
       "      <td>4</td>\n",
       "    </tr>\n",
       "    <tr>\n",
       "      <th>3</th>\n",
       "      <td>414</td>\n",
       "      <td>snDjs1hdh7JOWv4jjbXPDw</td>\n",
       "      <td>Michael</td>\n",
       "      <td>447</td>\n",
       "      <td>2008-11-19</td>\n",
       "      <td>uIjj7EIVBU4kGNgmKPO02A, kroQYWSj-BhIEXT4VwLRHA...</td>\n",
       "      <td>35</td>\n",
       "      <td>36</td>\n",
       "      <td>7</td>\n",
       "      <td>13</td>\n",
       "      <td>...</td>\n",
       "      <td>2</td>\n",
       "      <td>0</td>\n",
       "      <td>0</td>\n",
       "      <td>11</td>\n",
       "      <td>25</td>\n",
       "      <td>22</td>\n",
       "      <td>22</td>\n",
       "      <td>17</td>\n",
       "      <td>3</td>\n",
       "      <td>5</td>\n",
       "    </tr>\n",
       "    <tr>\n",
       "      <th>4</th>\n",
       "      <td>544</td>\n",
       "      <td>bBRPy8zUvNc0NGbGmkjrZg</td>\n",
       "      <td>Jan</td>\n",
       "      <td>462</td>\n",
       "      <td>2009-03-30</td>\n",
       "      <td>T78RIzZ3VPQ9C8njU_VIuA, gxSDEZYcRn_uFWZzQCDKrA...</td>\n",
       "      <td>2166</td>\n",
       "      <td>1853</td>\n",
       "      <td>1681</td>\n",
       "      <td>95</td>\n",
       "      <td>...</td>\n",
       "      <td>151</td>\n",
       "      <td>120</td>\n",
       "      <td>92</td>\n",
       "      <td>221</td>\n",
       "      <td>466</td>\n",
       "      <td>764</td>\n",
       "      <td>764</td>\n",
       "      <td>279</td>\n",
       "      <td>197</td>\n",
       "      <td>4</td>\n",
       "    </tr>\n",
       "  </tbody>\n",
       "</table>\n",
       "<p>5 rows × 24 columns</p>\n",
       "</div>"
      ],
      "text/plain": [
       "   Unnamed: 0                 user_id      name  review_count yelping_since  \\\n",
       "0          44  fV8Yr0c5tFQTQ2SRRJHXHw  Michelle            50    2007-08-22   \n",
       "1          74  aw973Pm1nrTbRjP4zY9B9g     Kenny           762    2008-09-23   \n",
       "2         246  i5jSTSpXJtvM-ExWRttglw   Evelina            85    2014-03-17   \n",
       "3         414  snDjs1hdh7JOWv4jjbXPDw   Michael           447    2008-11-19   \n",
       "4         544  bBRPy8zUvNc0NGbGmkjrZg       Jan           462    2009-03-30   \n",
       "\n",
       "                                             friends  useful  funny  cool  \\\n",
       "0  HDb4fBWIAQ-foS8qLJty9w, x0hBZsmBTYxhjjx0MShz1A...      43     12     5   \n",
       "1  Cit5yho-DqotA0BnXHErTQ, bm2DqfP4P454FjEtCbZdkQ...     174    151    67   \n",
       "2  aLvxbF2DueKFOqul9eVWCw, JesJ-LaNfr3pKhL7gWhDrw...      51     12    33   \n",
       "3  uIjj7EIVBU4kGNgmKPO02A, kroQYWSj-BhIEXT4VwLRHA...      35     36     7   \n",
       "4  T78RIzZ3VPQ9C8njU_VIuA, gxSDEZYcRn_uFWZzQCDKrA...    2166   1853  1681   \n",
       "\n",
       "   fans      ...       compliment_profile  compliment_cute  compliment_list  \\\n",
       "0     1      ...                        0                0                0   \n",
       "1    27      ...                        2                7                0   \n",
       "2    13      ...                        0                0                0   \n",
       "3    13      ...                        2                0                0   \n",
       "4    95      ...                      151              120               92   \n",
       "\n",
       "   compliment_note  compliment_plain  compliment_cool  compliment_funny  \\\n",
       "0                9                 7                7                 7   \n",
       "1               16                52               47                47   \n",
       "2                5                16               13                13   \n",
       "3               11                25               22                22   \n",
       "4              221               466              764               764   \n",
       "\n",
       "   compliment_writer  compliment_photos  # elite years  \n",
       "0                  4                  0              1  \n",
       "1                 14                  1              7  \n",
       "2                 14                  4              4  \n",
       "3                 17                  3              5  \n",
       "4                279                197              4  \n",
       "\n",
       "[5 rows x 24 columns]"
      ]
     },
     "execution_count": 85,
     "metadata": {},
     "output_type": "execute_result"
    }
   ],
   "source": [
    "elite_users.head()"
   ]
  },
  {
   "cell_type": "markdown",
   "metadata": {},
   "source": [
    "## Find Elite Reviews\n",
    "\n",
    "Create subset of reviews that were written by elite users."
   ]
  },
  {
   "cell_type": "code",
   "execution_count": 86,
   "metadata": {},
   "outputs": [],
   "source": [
    "elite_reviews = pd.merge(reviews, elite_users[['user_id','# elite years']], on = 'user_id', how = 'inner')"
   ]
  },
  {
   "cell_type": "code",
   "execution_count": 87,
   "metadata": {
    "scrolled": false
   },
   "outputs": [
    {
     "data": {
      "text/html": [
       "<div>\n",
       "<style scoped>\n",
       "    .dataframe tbody tr th:only-of-type {\n",
       "        vertical-align: middle;\n",
       "    }\n",
       "\n",
       "    .dataframe tbody tr th {\n",
       "        vertical-align: top;\n",
       "    }\n",
       "\n",
       "    .dataframe thead th {\n",
       "        text-align: right;\n",
       "    }\n",
       "</style>\n",
       "<table border=\"1\" class=\"dataframe\">\n",
       "  <thead>\n",
       "    <tr style=\"text-align: right;\">\n",
       "      <th></th>\n",
       "      <th>stars</th>\n",
       "      <th>useful</th>\n",
       "      <th>funny</th>\n",
       "      <th>cool</th>\n",
       "      <th># elite years</th>\n",
       "    </tr>\n",
       "  </thead>\n",
       "  <tbody>\n",
       "    <tr>\n",
       "      <th>count</th>\n",
       "      <td>1.197434e+06</td>\n",
       "      <td>1.197434e+06</td>\n",
       "      <td>1.197434e+06</td>\n",
       "      <td>1.197434e+06</td>\n",
       "      <td>1.197434e+06</td>\n",
       "    </tr>\n",
       "    <tr>\n",
       "      <th>mean</th>\n",
       "      <td>3.779641e+00</td>\n",
       "      <td>2.641708e+00</td>\n",
       "      <td>1.248433e+00</td>\n",
       "      <td>1.598071e+00</td>\n",
       "      <td>3.929847e+00</td>\n",
       "    </tr>\n",
       "    <tr>\n",
       "      <th>std</th>\n",
       "      <td>1.085145e+00</td>\n",
       "      <td>5.535623e+00</td>\n",
       "      <td>3.912788e+00</td>\n",
       "      <td>3.950631e+00</td>\n",
       "      <td>2.357590e+00</td>\n",
       "    </tr>\n",
       "    <tr>\n",
       "      <th>min</th>\n",
       "      <td>1.000000e+00</td>\n",
       "      <td>0.000000e+00</td>\n",
       "      <td>0.000000e+00</td>\n",
       "      <td>0.000000e+00</td>\n",
       "      <td>1.000000e+00</td>\n",
       "    </tr>\n",
       "    <tr>\n",
       "      <th>25%</th>\n",
       "      <td>3.000000e+00</td>\n",
       "      <td>0.000000e+00</td>\n",
       "      <td>0.000000e+00</td>\n",
       "      <td>0.000000e+00</td>\n",
       "      <td>2.000000e+00</td>\n",
       "    </tr>\n",
       "    <tr>\n",
       "      <th>50%</th>\n",
       "      <td>4.000000e+00</td>\n",
       "      <td>1.000000e+00</td>\n",
       "      <td>0.000000e+00</td>\n",
       "      <td>1.000000e+00</td>\n",
       "      <td>3.000000e+00</td>\n",
       "    </tr>\n",
       "    <tr>\n",
       "      <th>75%</th>\n",
       "      <td>5.000000e+00</td>\n",
       "      <td>3.000000e+00</td>\n",
       "      <td>1.000000e+00</td>\n",
       "      <td>2.000000e+00</td>\n",
       "      <td>6.000000e+00</td>\n",
       "    </tr>\n",
       "    <tr>\n",
       "      <th>max</th>\n",
       "      <td>5.000000e+00</td>\n",
       "      <td>1.608000e+03</td>\n",
       "      <td>9.520000e+02</td>\n",
       "      <td>3.190000e+02</td>\n",
       "      <td>1.300000e+01</td>\n",
       "    </tr>\n",
       "  </tbody>\n",
       "</table>\n",
       "</div>"
      ],
      "text/plain": [
       "              stars        useful         funny          cool  # elite years\n",
       "count  1.197434e+06  1.197434e+06  1.197434e+06  1.197434e+06   1.197434e+06\n",
       "mean   3.779641e+00  2.641708e+00  1.248433e+00  1.598071e+00   3.929847e+00\n",
       "std    1.085145e+00  5.535623e+00  3.912788e+00  3.950631e+00   2.357590e+00\n",
       "min    1.000000e+00  0.000000e+00  0.000000e+00  0.000000e+00   1.000000e+00\n",
       "25%    3.000000e+00  0.000000e+00  0.000000e+00  0.000000e+00   2.000000e+00\n",
       "50%    4.000000e+00  1.000000e+00  0.000000e+00  1.000000e+00   3.000000e+00\n",
       "75%    5.000000e+00  3.000000e+00  1.000000e+00  2.000000e+00   6.000000e+00\n",
       "max    5.000000e+00  1.608000e+03  9.520000e+02  3.190000e+02   1.300000e+01"
      ]
     },
     "execution_count": 87,
     "metadata": {},
     "output_type": "execute_result"
    }
   ],
   "source": [
    "elite_reviews.describe()"
   ]
  },
  {
   "cell_type": "code",
   "execution_count": 88,
   "metadata": {},
   "outputs": [
    {
     "name": "stdout",
     "output_type": "stream",
     "text": [
      "22.76% of our reviews were written by elite users.\n"
     ]
    }
   ],
   "source": [
    "print(f\"{'{:.2f}'.format(100*len(elite_reviews)/len(reviews))}% of our reviews were written by elite users.\")"
   ]
  },
  {
   "cell_type": "code",
   "execution_count": 89,
   "metadata": {
    "scrolled": false
   },
   "outputs": [
    {
     "data": {
      "text/html": [
       "<div>\n",
       "<style scoped>\n",
       "    .dataframe tbody tr th:only-of-type {\n",
       "        vertical-align: middle;\n",
       "    }\n",
       "\n",
       "    .dataframe tbody tr th {\n",
       "        vertical-align: top;\n",
       "    }\n",
       "\n",
       "    .dataframe thead th {\n",
       "        text-align: right;\n",
       "    }\n",
       "</style>\n",
       "<table border=\"1\" class=\"dataframe\">\n",
       "  <thead>\n",
       "    <tr style=\"text-align: right;\">\n",
       "      <th></th>\n",
       "      <th>review_id</th>\n",
       "      <th>user_id</th>\n",
       "      <th>business_id</th>\n",
       "      <th>stars</th>\n",
       "      <th>date</th>\n",
       "      <th>text</th>\n",
       "      <th>useful</th>\n",
       "      <th>funny</th>\n",
       "      <th>cool</th>\n",
       "      <th># elite years</th>\n",
       "    </tr>\n",
       "  </thead>\n",
       "  <tbody>\n",
       "    <tr>\n",
       "      <th>0</th>\n",
       "      <td>ymAUG8DZfQcFTBSOiaNN4w</td>\n",
       "      <td>u0LXt3Uea_GidxRW1xcsfg</td>\n",
       "      <td>9_CGhHMz8698M9-PkVf0CQ</td>\n",
       "      <td>4</td>\n",
       "      <td>2012-05-11</td>\n",
       "      <td>Who would have guess that you would be able to...</td>\n",
       "      <td>0</td>\n",
       "      <td>0</td>\n",
       "      <td>2</td>\n",
       "      <td>6</td>\n",
       "    </tr>\n",
       "    <tr>\n",
       "      <th>1</th>\n",
       "      <td>8UIishPUD92hXtScSga_gw</td>\n",
       "      <td>u0LXt3Uea_GidxRW1xcsfg</td>\n",
       "      <td>gkCorLgPyQLsptTHalL61g</td>\n",
       "      <td>4</td>\n",
       "      <td>2015-10-27</td>\n",
       "      <td>Always drove past this coffee house and wonder...</td>\n",
       "      <td>1</td>\n",
       "      <td>0</td>\n",
       "      <td>0</td>\n",
       "      <td>6</td>\n",
       "    </tr>\n",
       "    <tr>\n",
       "      <th>2</th>\n",
       "      <td>w41ZS9shepfO3uEyhXEWuQ</td>\n",
       "      <td>u0LXt3Uea_GidxRW1xcsfg</td>\n",
       "      <td>5r6-G9C4YLbC7Ziz57l3rQ</td>\n",
       "      <td>3</td>\n",
       "      <td>2013-02-09</td>\n",
       "      <td>Not bad!! Love that there is a gluten-free, ve...</td>\n",
       "      <td>1</td>\n",
       "      <td>0</td>\n",
       "      <td>0</td>\n",
       "      <td>6</td>\n",
       "    </tr>\n",
       "    <tr>\n",
       "      <th>3</th>\n",
       "      <td>WF_QTN3p-thD74hqpp2j-Q</td>\n",
       "      <td>u0LXt3Uea_GidxRW1xcsfg</td>\n",
       "      <td>fDF_o2JPU8BR1Gya--jRIA</td>\n",
       "      <td>5</td>\n",
       "      <td>2016-04-06</td>\n",
       "      <td>Love this place!\\n\\nPeggy is great with dogs a...</td>\n",
       "      <td>3</td>\n",
       "      <td>0</td>\n",
       "      <td>0</td>\n",
       "      <td>6</td>\n",
       "    </tr>\n",
       "    <tr>\n",
       "      <th>4</th>\n",
       "      <td>PIsUSmvaUWB00qv5KTF1xA</td>\n",
       "      <td>u0LXt3Uea_GidxRW1xcsfg</td>\n",
       "      <td>z8oIoCT1cXz7gZP5GeU5OA</td>\n",
       "      <td>4</td>\n",
       "      <td>2013-05-01</td>\n",
       "      <td>This is currently my parents new favourite res...</td>\n",
       "      <td>1</td>\n",
       "      <td>0</td>\n",
       "      <td>0</td>\n",
       "      <td>6</td>\n",
       "    </tr>\n",
       "  </tbody>\n",
       "</table>\n",
       "</div>"
      ],
      "text/plain": [
       "                review_id                 user_id             business_id  \\\n",
       "0  ymAUG8DZfQcFTBSOiaNN4w  u0LXt3Uea_GidxRW1xcsfg  9_CGhHMz8698M9-PkVf0CQ   \n",
       "1  8UIishPUD92hXtScSga_gw  u0LXt3Uea_GidxRW1xcsfg  gkCorLgPyQLsptTHalL61g   \n",
       "2  w41ZS9shepfO3uEyhXEWuQ  u0LXt3Uea_GidxRW1xcsfg  5r6-G9C4YLbC7Ziz57l3rQ   \n",
       "3  WF_QTN3p-thD74hqpp2j-Q  u0LXt3Uea_GidxRW1xcsfg  fDF_o2JPU8BR1Gya--jRIA   \n",
       "4  PIsUSmvaUWB00qv5KTF1xA  u0LXt3Uea_GidxRW1xcsfg  z8oIoCT1cXz7gZP5GeU5OA   \n",
       "\n",
       "   stars        date                                               text  \\\n",
       "0      4  2012-05-11  Who would have guess that you would be able to...   \n",
       "1      4  2015-10-27  Always drove past this coffee house and wonder...   \n",
       "2      3  2013-02-09  Not bad!! Love that there is a gluten-free, ve...   \n",
       "3      5  2016-04-06  Love this place!\\n\\nPeggy is great with dogs a...   \n",
       "4      4  2013-05-01  This is currently my parents new favourite res...   \n",
       "\n",
       "   useful  funny  cool  # elite years  \n",
       "0       0      0     2              6  \n",
       "1       1      0     0              6  \n",
       "2       1      0     0              6  \n",
       "3       3      0     0              6  \n",
       "4       1      0     0              6  "
      ]
     },
     "execution_count": 89,
     "metadata": {},
     "output_type": "execute_result"
    }
   ],
   "source": [
    "elite_reviews.head()"
   ]
  },
  {
   "cell_type": "code",
   "execution_count": 90,
   "metadata": {
    "scrolled": true
   },
   "outputs": [
    {
     "data": {
      "text/plain": [
       "1197434"
      ]
     },
     "execution_count": 90,
     "metadata": {},
     "output_type": "execute_result"
    }
   ],
   "source": [
    "len(elite_reviews)"
   ]
  },
  {
   "cell_type": "markdown",
   "metadata": {},
   "source": [
    "Group elite reviews by business id to get a count of how many elite reviews each business has."
   ]
  },
  {
   "cell_type": "code",
   "execution_count": 91,
   "metadata": {
    "scrolled": true
   },
   "outputs": [
    {
     "data": {
      "text/html": [
       "<div>\n",
       "<style scoped>\n",
       "    .dataframe tbody tr th:only-of-type {\n",
       "        vertical-align: middle;\n",
       "    }\n",
       "\n",
       "    .dataframe tbody tr th {\n",
       "        vertical-align: top;\n",
       "    }\n",
       "\n",
       "    .dataframe thead th {\n",
       "        text-align: right;\n",
       "    }\n",
       "</style>\n",
       "<table border=\"1\" class=\"dataframe\">\n",
       "  <thead>\n",
       "    <tr style=\"text-align: right;\">\n",
       "      <th></th>\n",
       "      <th># of elite reviews</th>\n",
       "      <th>average elite stars</th>\n",
       "    </tr>\n",
       "    <tr>\n",
       "      <th>business_id</th>\n",
       "      <th></th>\n",
       "      <th></th>\n",
       "    </tr>\n",
       "  </thead>\n",
       "  <tbody>\n",
       "    <tr>\n",
       "      <th>DkYS3arLOhA8si5uUEmHOw</th>\n",
       "      <td>2239</td>\n",
       "      <td>4.267084</td>\n",
       "    </tr>\n",
       "    <tr>\n",
       "      <th>K7lWdNUhCbcnEvI0NhGewg</th>\n",
       "      <td>2185</td>\n",
       "      <td>3.835240</td>\n",
       "    </tr>\n",
       "    <tr>\n",
       "      <th>RESDUcs7fIiihp38-d6_6g</th>\n",
       "      <td>2178</td>\n",
       "      <td>4.055556</td>\n",
       "    </tr>\n",
       "    <tr>\n",
       "      <th>4JNXUYY8wbaaDmk3BPzlWw</th>\n",
       "      <td>2168</td>\n",
       "      <td>4.091790</td>\n",
       "    </tr>\n",
       "    <tr>\n",
       "      <th>FaHADZARwnY4yvlvpnsfGA</th>\n",
       "      <td>2097</td>\n",
       "      <td>3.366237</td>\n",
       "    </tr>\n",
       "    <tr>\n",
       "      <th>iCQpiavjjPzJ5_3gPD5Ebg</th>\n",
       "      <td>1625</td>\n",
       "      <td>4.072000</td>\n",
       "    </tr>\n",
       "    <tr>\n",
       "      <th>2weQS-RnoOBhb1KsHKyoSQ</th>\n",
       "      <td>1558</td>\n",
       "      <td>3.792683</td>\n",
       "    </tr>\n",
       "    <tr>\n",
       "      <th>eoHdUeQDNgQ6WYEnP2aiRw</th>\n",
       "      <td>1427</td>\n",
       "      <td>3.192712</td>\n",
       "    </tr>\n",
       "    <tr>\n",
       "      <th>ujHiaprwCQ5ewziu0Vi9rw</th>\n",
       "      <td>1421</td>\n",
       "      <td>3.664321</td>\n",
       "    </tr>\n",
       "    <tr>\n",
       "      <th>rcaPajgKOJC2vo_l3xa42A</th>\n",
       "      <td>1413</td>\n",
       "      <td>4.082803</td>\n",
       "    </tr>\n",
       "    <tr>\n",
       "      <th>cYwJA2A6I12KNkm2rtXd5g</th>\n",
       "      <td>1365</td>\n",
       "      <td>3.928205</td>\n",
       "    </tr>\n",
       "    <tr>\n",
       "      <th>f4x1YBxkLrZg652xt2KR5g</th>\n",
       "      <td>1335</td>\n",
       "      <td>3.869663</td>\n",
       "    </tr>\n",
       "    <tr>\n",
       "      <th>5LNZ67Yw9RD6nf4_UhXOjw</th>\n",
       "      <td>1311</td>\n",
       "      <td>4.257056</td>\n",
       "    </tr>\n",
       "    <tr>\n",
       "      <th>JmI9nslLD7KZqRr__Bg6NQ</th>\n",
       "      <td>1273</td>\n",
       "      <td>3.357423</td>\n",
       "    </tr>\n",
       "    <tr>\n",
       "      <th>Wxxvi3LZbHNIDwJ-ZimtnA</th>\n",
       "      <td>1252</td>\n",
       "      <td>4.232428</td>\n",
       "    </tr>\n",
       "    <tr>\n",
       "      <th>MpmFFw0GE_2iRFPdsRpJbA</th>\n",
       "      <td>1243</td>\n",
       "      <td>4.207562</td>\n",
       "    </tr>\n",
       "    <tr>\n",
       "      <th>SMPbvZLSMMb7KU76YNYMGg</th>\n",
       "      <td>1177</td>\n",
       "      <td>3.836024</td>\n",
       "    </tr>\n",
       "    <tr>\n",
       "      <th>El4FC8jcawUVgw_0EIcbaQ</th>\n",
       "      <td>1142</td>\n",
       "      <td>3.465849</td>\n",
       "    </tr>\n",
       "    <tr>\n",
       "      <th>P7pxQFqr7yBKMMI2J51udw</th>\n",
       "      <td>1105</td>\n",
       "      <td>3.852489</td>\n",
       "    </tr>\n",
       "    <tr>\n",
       "      <th>KskYqH1Bi7Z_61pH6Om8pg</th>\n",
       "      <td>1103</td>\n",
       "      <td>4.212149</td>\n",
       "    </tr>\n",
       "    <tr>\n",
       "      <th>ECOkEVUodMLUxvI0PMI4gQ</th>\n",
       "      <td>1015</td>\n",
       "      <td>3.273892</td>\n",
       "    </tr>\n",
       "    <tr>\n",
       "      <th>QJatAcxYgK1Zp9BRZMAx7g</th>\n",
       "      <td>1010</td>\n",
       "      <td>4.017822</td>\n",
       "    </tr>\n",
       "    <tr>\n",
       "      <th>XZbuPXdyA0ZtTu3AzqtQhg</th>\n",
       "      <td>1007</td>\n",
       "      <td>4.026812</td>\n",
       "    </tr>\n",
       "    <tr>\n",
       "      <th>NvKNe9DnQavC9GstglcBJQ</th>\n",
       "      <td>1007</td>\n",
       "      <td>3.877855</td>\n",
       "    </tr>\n",
       "    <tr>\n",
       "      <th>na4Th5DrNauOv-c43QQFvA</th>\n",
       "      <td>992</td>\n",
       "      <td>4.116935</td>\n",
       "    </tr>\n",
       "    <tr>\n",
       "      <th>yQab5dxZzgBLTEHCw9V7_w</th>\n",
       "      <td>952</td>\n",
       "      <td>3.573529</td>\n",
       "    </tr>\n",
       "    <tr>\n",
       "      <th>uGupeWqih0yIcCg8anM1PA</th>\n",
       "      <td>945</td>\n",
       "      <td>4.252910</td>\n",
       "    </tr>\n",
       "    <tr>\n",
       "      <th>Cni2l-VKG_pdospJ6xliXQ</th>\n",
       "      <td>942</td>\n",
       "      <td>3.864119</td>\n",
       "    </tr>\n",
       "    <tr>\n",
       "      <th>WUq8HJHIZU4uteB154XN7w</th>\n",
       "      <td>934</td>\n",
       "      <td>3.723769</td>\n",
       "    </tr>\n",
       "    <tr>\n",
       "      <th>AV6weBrZFFBfRGCbcRGO4g</th>\n",
       "      <td>924</td>\n",
       "      <td>2.931818</td>\n",
       "    </tr>\n",
       "    <tr>\n",
       "      <th>...</th>\n",
       "      <td>...</td>\n",
       "      <td>...</td>\n",
       "    </tr>\n",
       "    <tr>\n",
       "      <th>iXILWr-GJranhyeJ729fMQ</th>\n",
       "      <td>1</td>\n",
       "      <td>3.000000</td>\n",
       "    </tr>\n",
       "    <tr>\n",
       "      <th>IfX2ytysZgGL-qaDs3Phew</th>\n",
       "      <td>1</td>\n",
       "      <td>1.000000</td>\n",
       "    </tr>\n",
       "    <tr>\n",
       "      <th>iXO790cIqW9JekmehkIvhQ</th>\n",
       "      <td>1</td>\n",
       "      <td>1.000000</td>\n",
       "    </tr>\n",
       "    <tr>\n",
       "      <th>IfJQM9w7sj_KVGDIeLGqgQ</th>\n",
       "      <td>1</td>\n",
       "      <td>5.000000</td>\n",
       "    </tr>\n",
       "    <tr>\n",
       "      <th>AR-0m_40n2TTxR-P8V7P9A</th>\n",
       "      <td>1</td>\n",
       "      <td>5.000000</td>\n",
       "    </tr>\n",
       "    <tr>\n",
       "      <th>AR6mrWO89rq-ku_t_E71AA</th>\n",
       "      <td>1</td>\n",
       "      <td>4.000000</td>\n",
       "    </tr>\n",
       "    <tr>\n",
       "      <th>iXZ6HaOlbMcAbVS416RRtw</th>\n",
       "      <td>1</td>\n",
       "      <td>5.000000</td>\n",
       "    </tr>\n",
       "    <tr>\n",
       "      <th>If4WyWHBoUxoc0M2FEBByw</th>\n",
       "      <td>1</td>\n",
       "      <td>5.000000</td>\n",
       "    </tr>\n",
       "    <tr>\n",
       "      <th>3X0QDh0_IXJO9cnbKzO0Mg</th>\n",
       "      <td>1</td>\n",
       "      <td>5.000000</td>\n",
       "    </tr>\n",
       "    <tr>\n",
       "      <th>iWcNhK2nxnczJ0Fdx6As4w</th>\n",
       "      <td>1</td>\n",
       "      <td>5.000000</td>\n",
       "    </tr>\n",
       "    <tr>\n",
       "      <th>U06BAxn42Os2eTlVYMcKRw</th>\n",
       "      <td>1</td>\n",
       "      <td>1.000000</td>\n",
       "    </tr>\n",
       "    <tr>\n",
       "      <th>iVD0KaXjwhGv-nnkIQ-JuQ</th>\n",
       "      <td>1</td>\n",
       "      <td>5.000000</td>\n",
       "    </tr>\n",
       "    <tr>\n",
       "      <th>OTajPsjpX_IZBhqIHv97_w</th>\n",
       "      <td>1</td>\n",
       "      <td>2.000000</td>\n",
       "    </tr>\n",
       "    <tr>\n",
       "      <th>iVLXDYgI1Uftw4WezWBuOg</th>\n",
       "      <td>1</td>\n",
       "      <td>4.000000</td>\n",
       "    </tr>\n",
       "    <tr>\n",
       "      <th>iVSkAV8XE4oiQtIR9KqhRg</th>\n",
       "      <td>1</td>\n",
       "      <td>4.000000</td>\n",
       "    </tr>\n",
       "    <tr>\n",
       "      <th>3XKr1DIfsA4Tys-eELpfCQ</th>\n",
       "      <td>1</td>\n",
       "      <td>5.000000</td>\n",
       "    </tr>\n",
       "    <tr>\n",
       "      <th>iVeEWUH5zlA5umlIvg2SWA</th>\n",
       "      <td>1</td>\n",
       "      <td>5.000000</td>\n",
       "    </tr>\n",
       "    <tr>\n",
       "      <th>U0S6YqfxHWWJBWPwjUXcLQ</th>\n",
       "      <td>1</td>\n",
       "      <td>2.000000</td>\n",
       "    </tr>\n",
       "    <tr>\n",
       "      <th>iVrb7ThpH1abqs37FMMuog</th>\n",
       "      <td>1</td>\n",
       "      <td>1.000000</td>\n",
       "    </tr>\n",
       "    <tr>\n",
       "      <th>iVtGaLh-xW0udQ8G_lSwhQ</th>\n",
       "      <td>1</td>\n",
       "      <td>1.000000</td>\n",
       "    </tr>\n",
       "    <tr>\n",
       "      <th>IfntnpZzqC1yUygWxKygug</th>\n",
       "      <td>1</td>\n",
       "      <td>5.000000</td>\n",
       "    </tr>\n",
       "    <tr>\n",
       "      <th>iWOFMQr6G3cur8nIWytohQ</th>\n",
       "      <td>1</td>\n",
       "      <td>5.000000</td>\n",
       "    </tr>\n",
       "    <tr>\n",
       "      <th>IfeykY9cxgDEpZJPkBC6CA</th>\n",
       "      <td>1</td>\n",
       "      <td>3.000000</td>\n",
       "    </tr>\n",
       "    <tr>\n",
       "      <th>iW2aJMm0fYxPLqLepfoXFA</th>\n",
       "      <td>1</td>\n",
       "      <td>5.000000</td>\n",
       "    </tr>\n",
       "    <tr>\n",
       "      <th>iW4ZPbHkYRQoa5N8S10WTA</th>\n",
       "      <td>1</td>\n",
       "      <td>4.000000</td>\n",
       "    </tr>\n",
       "    <tr>\n",
       "      <th>AQd_7LAc-iXLP9-6Wej5Hw</th>\n",
       "      <td>1</td>\n",
       "      <td>5.000000</td>\n",
       "    </tr>\n",
       "    <tr>\n",
       "      <th>U0GlqWcwmSe1A3sJE6tYLg</th>\n",
       "      <td>1</td>\n",
       "      <td>5.000000</td>\n",
       "    </tr>\n",
       "    <tr>\n",
       "      <th>IfbUjz77N6Qlh6H0usKozg</th>\n",
       "      <td>1</td>\n",
       "      <td>5.000000</td>\n",
       "    </tr>\n",
       "    <tr>\n",
       "      <th>iWKiZFyXKxjt7NUJWf6uCw</th>\n",
       "      <td>1</td>\n",
       "      <td>5.000000</td>\n",
       "    </tr>\n",
       "    <tr>\n",
       "      <th>Uwx1btib8lhsfHTUb2Cycw</th>\n",
       "      <td>1</td>\n",
       "      <td>5.000000</td>\n",
       "    </tr>\n",
       "  </tbody>\n",
       "</table>\n",
       "<p>119495 rows × 2 columns</p>\n",
       "</div>"
      ],
      "text/plain": [
       "                        # of elite reviews  average elite stars\n",
       "business_id                                                    \n",
       "DkYS3arLOhA8si5uUEmHOw                2239             4.267084\n",
       "K7lWdNUhCbcnEvI0NhGewg                2185             3.835240\n",
       "RESDUcs7fIiihp38-d6_6g                2178             4.055556\n",
       "4JNXUYY8wbaaDmk3BPzlWw                2168             4.091790\n",
       "FaHADZARwnY4yvlvpnsfGA                2097             3.366237\n",
       "iCQpiavjjPzJ5_3gPD5Ebg                1625             4.072000\n",
       "2weQS-RnoOBhb1KsHKyoSQ                1558             3.792683\n",
       "eoHdUeQDNgQ6WYEnP2aiRw                1427             3.192712\n",
       "ujHiaprwCQ5ewziu0Vi9rw                1421             3.664321\n",
       "rcaPajgKOJC2vo_l3xa42A                1413             4.082803\n",
       "cYwJA2A6I12KNkm2rtXd5g                1365             3.928205\n",
       "f4x1YBxkLrZg652xt2KR5g                1335             3.869663\n",
       "5LNZ67Yw9RD6nf4_UhXOjw                1311             4.257056\n",
       "JmI9nslLD7KZqRr__Bg6NQ                1273             3.357423\n",
       "Wxxvi3LZbHNIDwJ-ZimtnA                1252             4.232428\n",
       "MpmFFw0GE_2iRFPdsRpJbA                1243             4.207562\n",
       "SMPbvZLSMMb7KU76YNYMGg                1177             3.836024\n",
       "El4FC8jcawUVgw_0EIcbaQ                1142             3.465849\n",
       "P7pxQFqr7yBKMMI2J51udw                1105             3.852489\n",
       "KskYqH1Bi7Z_61pH6Om8pg                1103             4.212149\n",
       "ECOkEVUodMLUxvI0PMI4gQ                1015             3.273892\n",
       "QJatAcxYgK1Zp9BRZMAx7g                1010             4.017822\n",
       "XZbuPXdyA0ZtTu3AzqtQhg                1007             4.026812\n",
       "NvKNe9DnQavC9GstglcBJQ                1007             3.877855\n",
       "na4Th5DrNauOv-c43QQFvA                 992             4.116935\n",
       "yQab5dxZzgBLTEHCw9V7_w                 952             3.573529\n",
       "uGupeWqih0yIcCg8anM1PA                 945             4.252910\n",
       "Cni2l-VKG_pdospJ6xliXQ                 942             3.864119\n",
       "WUq8HJHIZU4uteB154XN7w                 934             3.723769\n",
       "AV6weBrZFFBfRGCbcRGO4g                 924             2.931818\n",
       "...                                    ...                  ...\n",
       "iXILWr-GJranhyeJ729fMQ                   1             3.000000\n",
       "IfX2ytysZgGL-qaDs3Phew                   1             1.000000\n",
       "iXO790cIqW9JekmehkIvhQ                   1             1.000000\n",
       "IfJQM9w7sj_KVGDIeLGqgQ                   1             5.000000\n",
       "AR-0m_40n2TTxR-P8V7P9A                   1             5.000000\n",
       "AR6mrWO89rq-ku_t_E71AA                   1             4.000000\n",
       "iXZ6HaOlbMcAbVS416RRtw                   1             5.000000\n",
       "If4WyWHBoUxoc0M2FEBByw                   1             5.000000\n",
       "3X0QDh0_IXJO9cnbKzO0Mg                   1             5.000000\n",
       "iWcNhK2nxnczJ0Fdx6As4w                   1             5.000000\n",
       "U06BAxn42Os2eTlVYMcKRw                   1             1.000000\n",
       "iVD0KaXjwhGv-nnkIQ-JuQ                   1             5.000000\n",
       "OTajPsjpX_IZBhqIHv97_w                   1             2.000000\n",
       "iVLXDYgI1Uftw4WezWBuOg                   1             4.000000\n",
       "iVSkAV8XE4oiQtIR9KqhRg                   1             4.000000\n",
       "3XKr1DIfsA4Tys-eELpfCQ                   1             5.000000\n",
       "iVeEWUH5zlA5umlIvg2SWA                   1             5.000000\n",
       "U0S6YqfxHWWJBWPwjUXcLQ                   1             2.000000\n",
       "iVrb7ThpH1abqs37FMMuog                   1             1.000000\n",
       "iVtGaLh-xW0udQ8G_lSwhQ                   1             1.000000\n",
       "IfntnpZzqC1yUygWxKygug                   1             5.000000\n",
       "iWOFMQr6G3cur8nIWytohQ                   1             5.000000\n",
       "IfeykY9cxgDEpZJPkBC6CA                   1             3.000000\n",
       "iW2aJMm0fYxPLqLepfoXFA                   1             5.000000\n",
       "iW4ZPbHkYRQoa5N8S10WTA                   1             4.000000\n",
       "AQd_7LAc-iXLP9-6Wej5Hw                   1             5.000000\n",
       "U0GlqWcwmSe1A3sJE6tYLg                   1             5.000000\n",
       "IfbUjz77N6Qlh6H0usKozg                   1             5.000000\n",
       "iWKiZFyXKxjt7NUJWf6uCw                   1             5.000000\n",
       "Uwx1btib8lhsfHTUb2Cycw                   1             5.000000\n",
       "\n",
       "[119495 rows x 2 columns]"
      ]
     },
     "execution_count": 91,
     "metadata": {},
     "output_type": "execute_result"
    }
   ],
   "source": [
    "elite_reviewed_business = pd.DataFrame(elite_reviews.groupby('business_id').agg({'review_id':'count','stars':'mean'}))\n",
    "elite_reviewed_business = elite_reviewed_business.rename(columns = {'review_id':'# of elite reviews','stars':'average elite stars'})\n",
    "elite_reviewed_business.sort_values('# of elite reviews', ascending=False)"
   ]
  },
  {
   "cell_type": "code",
   "execution_count": 92,
   "metadata": {},
   "outputs": [
    {
     "name": "stdout",
     "output_type": "stream",
     "text": [
      "There are 4173 businesses that have at least 50 elite reviews\n"
     ]
    }
   ],
   "source": [
    "threshold = 50\n",
    "print(f\"There are {len(elite_reviewed_business[elite_reviewed_business['# of elite reviews'] >= threshold])} businesses that have at least {threshold} elite reviews\")"
   ]
  },
  {
   "cell_type": "code",
   "execution_count": 93,
   "metadata": {},
   "outputs": [],
   "source": [
    "elite_reviewed_business = elite_reviewed_business[elite_reviewed_business['# of elite reviews'] >= threshold]"
   ]
  },
  {
   "cell_type": "markdown",
   "metadata": {},
   "source": [
    "Create new data frame of reviews for businesses that have at least 50 reviews by elite members."
   ]
  },
  {
   "cell_type": "code",
   "execution_count": 94,
   "metadata": {
    "scrolled": false
   },
   "outputs": [
    {
     "data": {
      "text/html": [
       "<div>\n",
       "<style scoped>\n",
       "    .dataframe tbody tr th:only-of-type {\n",
       "        vertical-align: middle;\n",
       "    }\n",
       "\n",
       "    .dataframe tbody tr th {\n",
       "        vertical-align: top;\n",
       "    }\n",
       "\n",
       "    .dataframe thead th {\n",
       "        text-align: right;\n",
       "    }\n",
       "</style>\n",
       "<table border=\"1\" class=\"dataframe\">\n",
       "  <thead>\n",
       "    <tr style=\"text-align: right;\">\n",
       "      <th></th>\n",
       "      <th>stars</th>\n",
       "      <th>useful</th>\n",
       "      <th>funny</th>\n",
       "      <th>cool</th>\n",
       "      <th># elite years</th>\n",
       "    </tr>\n",
       "  </thead>\n",
       "  <tbody>\n",
       "    <tr>\n",
       "      <th>count</th>\n",
       "      <td>502414.000000</td>\n",
       "      <td>502414.000000</td>\n",
       "      <td>502414.000000</td>\n",
       "      <td>502414.000000</td>\n",
       "      <td>502414.000000</td>\n",
       "    </tr>\n",
       "    <tr>\n",
       "      <th>mean</th>\n",
       "      <td>3.870611</td>\n",
       "      <td>2.585625</td>\n",
       "      <td>1.348780</td>\n",
       "      <td>1.706549</td>\n",
       "      <td>3.994248</td>\n",
       "    </tr>\n",
       "    <tr>\n",
       "      <th>std</th>\n",
       "      <td>1.021485</td>\n",
       "      <td>6.440867</td>\n",
       "      <td>4.770303</td>\n",
       "      <td>4.274791</td>\n",
       "      <td>2.403569</td>\n",
       "    </tr>\n",
       "    <tr>\n",
       "      <th>min</th>\n",
       "      <td>1.000000</td>\n",
       "      <td>0.000000</td>\n",
       "      <td>0.000000</td>\n",
       "      <td>0.000000</td>\n",
       "      <td>1.000000</td>\n",
       "    </tr>\n",
       "    <tr>\n",
       "      <th>25%</th>\n",
       "      <td>3.000000</td>\n",
       "      <td>0.000000</td>\n",
       "      <td>0.000000</td>\n",
       "      <td>0.000000</td>\n",
       "      <td>2.000000</td>\n",
       "    </tr>\n",
       "    <tr>\n",
       "      <th>50%</th>\n",
       "      <td>4.000000</td>\n",
       "      <td>1.000000</td>\n",
       "      <td>0.000000</td>\n",
       "      <td>1.000000</td>\n",
       "      <td>3.000000</td>\n",
       "    </tr>\n",
       "    <tr>\n",
       "      <th>75%</th>\n",
       "      <td>5.000000</td>\n",
       "      <td>3.000000</td>\n",
       "      <td>1.000000</td>\n",
       "      <td>2.000000</td>\n",
       "      <td>6.000000</td>\n",
       "    </tr>\n",
       "    <tr>\n",
       "      <th>max</th>\n",
       "      <td>5.000000</td>\n",
       "      <td>1608.000000</td>\n",
       "      <td>952.000000</td>\n",
       "      <td>319.000000</td>\n",
       "      <td>13.000000</td>\n",
       "    </tr>\n",
       "  </tbody>\n",
       "</table>\n",
       "</div>"
      ],
      "text/plain": [
       "               stars         useful          funny           cool  \\\n",
       "count  502414.000000  502414.000000  502414.000000  502414.000000   \n",
       "mean        3.870611       2.585625       1.348780       1.706549   \n",
       "std         1.021485       6.440867       4.770303       4.274791   \n",
       "min         1.000000       0.000000       0.000000       0.000000   \n",
       "25%         3.000000       0.000000       0.000000       0.000000   \n",
       "50%         4.000000       1.000000       0.000000       1.000000   \n",
       "75%         5.000000       3.000000       1.000000       2.000000   \n",
       "max         5.000000    1608.000000     952.000000     319.000000   \n",
       "\n",
       "       # elite years  \n",
       "count  502414.000000  \n",
       "mean        3.994248  \n",
       "std         2.403569  \n",
       "min         1.000000  \n",
       "25%         2.000000  \n",
       "50%         3.000000  \n",
       "75%         6.000000  \n",
       "max        13.000000  "
      ]
     },
     "execution_count": 94,
     "metadata": {},
     "output_type": "execute_result"
    }
   ],
   "source": [
    "elite_reviews = elite_reviews[elite_reviews['business_id'].isin(elite_reviewed_business.index)]\n",
    "elite_reviews.describe()"
   ]
  },
  {
   "cell_type": "code",
   "execution_count": 95,
   "metadata": {},
   "outputs": [
    {
     "data": {
      "text/html": [
       "<div>\n",
       "<style scoped>\n",
       "    .dataframe tbody tr th:only-of-type {\n",
       "        vertical-align: middle;\n",
       "    }\n",
       "\n",
       "    .dataframe tbody tr th {\n",
       "        vertical-align: top;\n",
       "    }\n",
       "\n",
       "    .dataframe thead th {\n",
       "        text-align: right;\n",
       "    }\n",
       "</style>\n",
       "<table border=\"1\" class=\"dataframe\">\n",
       "  <thead>\n",
       "    <tr style=\"text-align: right;\">\n",
       "      <th></th>\n",
       "      <th>review_id</th>\n",
       "      <th>user_id</th>\n",
       "      <th>business_id</th>\n",
       "      <th>stars</th>\n",
       "      <th>date</th>\n",
       "      <th>text</th>\n",
       "      <th>useful</th>\n",
       "      <th>funny</th>\n",
       "      <th>cool</th>\n",
       "      <th># elite years</th>\n",
       "    </tr>\n",
       "  </thead>\n",
       "  <tbody>\n",
       "    <tr>\n",
       "      <th>0</th>\n",
       "      <td>w41ZS9shepfO3uEyhXEWuQ</td>\n",
       "      <td>u0LXt3Uea_GidxRW1xcsfg</td>\n",
       "      <td>5r6-G9C4YLbC7Ziz57l3rQ</td>\n",
       "      <td>3</td>\n",
       "      <td>2013-02-09</td>\n",
       "      <td>Not bad!! Love that there is a gluten-free, ve...</td>\n",
       "      <td>1</td>\n",
       "      <td>0</td>\n",
       "      <td>0</td>\n",
       "      <td>6</td>\n",
       "    </tr>\n",
       "    <tr>\n",
       "      <th>1</th>\n",
       "      <td>lsoSqIrrDbQvWpMvsSj2xw</td>\n",
       "      <td>u0LXt3Uea_GidxRW1xcsfg</td>\n",
       "      <td>RtUvSWO_UZ8V3Wpj0n077w</td>\n",
       "      <td>3</td>\n",
       "      <td>2012-12-03</td>\n",
       "      <td>Wanted to check out this place due to all the ...</td>\n",
       "      <td>2</td>\n",
       "      <td>1</td>\n",
       "      <td>1</td>\n",
       "      <td>6</td>\n",
       "    </tr>\n",
       "    <tr>\n",
       "      <th>2</th>\n",
       "      <td>FunI9om-aK5oMIIJmhMlZA</td>\n",
       "      <td>u0LXt3Uea_GidxRW1xcsfg</td>\n",
       "      <td>0W4lkclzZThpx3V65bVgig</td>\n",
       "      <td>4</td>\n",
       "      <td>2011-09-28</td>\n",
       "      <td>a must stop when you are in montreal!\\n\\nI was...</td>\n",
       "      <td>0</td>\n",
       "      <td>0</td>\n",
       "      <td>0</td>\n",
       "      <td>6</td>\n",
       "    </tr>\n",
       "    <tr>\n",
       "      <th>3</th>\n",
       "      <td>K7o5jDInfmX3cY5oH6ATNw</td>\n",
       "      <td>u0LXt3Uea_GidxRW1xcsfg</td>\n",
       "      <td>oWTn2IzrprsRkPfULtjZtQ</td>\n",
       "      <td>3</td>\n",
       "      <td>2012-09-23</td>\n",
       "      <td>Came here for a burger as one of my friends sa...</td>\n",
       "      <td>4</td>\n",
       "      <td>0</td>\n",
       "      <td>0</td>\n",
       "      <td>6</td>\n",
       "    </tr>\n",
       "    <tr>\n",
       "      <th>4</th>\n",
       "      <td>WYDFJOBOl7cycd7gN-c_xA</td>\n",
       "      <td>u0LXt3Uea_GidxRW1xcsfg</td>\n",
       "      <td>zgQHtqX0gqMw1nlBZl2VnQ</td>\n",
       "      <td>1</td>\n",
       "      <td>2012-10-30</td>\n",
       "      <td>really excited to hear of this restaurant comi...</td>\n",
       "      <td>9</td>\n",
       "      <td>2</td>\n",
       "      <td>1</td>\n",
       "      <td>6</td>\n",
       "    </tr>\n",
       "  </tbody>\n",
       "</table>\n",
       "</div>"
      ],
      "text/plain": [
       "                review_id                 user_id             business_id  \\\n",
       "0  w41ZS9shepfO3uEyhXEWuQ  u0LXt3Uea_GidxRW1xcsfg  5r6-G9C4YLbC7Ziz57l3rQ   \n",
       "1  lsoSqIrrDbQvWpMvsSj2xw  u0LXt3Uea_GidxRW1xcsfg  RtUvSWO_UZ8V3Wpj0n077w   \n",
       "2  FunI9om-aK5oMIIJmhMlZA  u0LXt3Uea_GidxRW1xcsfg  0W4lkclzZThpx3V65bVgig   \n",
       "3  K7o5jDInfmX3cY5oH6ATNw  u0LXt3Uea_GidxRW1xcsfg  oWTn2IzrprsRkPfULtjZtQ   \n",
       "4  WYDFJOBOl7cycd7gN-c_xA  u0LXt3Uea_GidxRW1xcsfg  zgQHtqX0gqMw1nlBZl2VnQ   \n",
       "\n",
       "   stars        date                                               text  \\\n",
       "0      3  2013-02-09  Not bad!! Love that there is a gluten-free, ve...   \n",
       "1      3  2012-12-03  Wanted to check out this place due to all the ...   \n",
       "2      4  2011-09-28  a must stop when you are in montreal!\\n\\nI was...   \n",
       "3      3  2012-09-23  Came here for a burger as one of my friends sa...   \n",
       "4      1  2012-10-30  really excited to hear of this restaurant comi...   \n",
       "\n",
       "   useful  funny  cool  # elite years  \n",
       "0       1      0     0              6  \n",
       "1       2      1     1              6  \n",
       "2       0      0     0              6  \n",
       "3       4      0     0              6  \n",
       "4       9      2     1              6  "
      ]
     },
     "execution_count": 95,
     "metadata": {},
     "output_type": "execute_result"
    }
   ],
   "source": [
    "elite_reviews = elite_reviews.reset_index(drop = True)\n",
    "elite_reviews.head()"
   ]
  },
  {
   "cell_type": "code",
   "execution_count": 96,
   "metadata": {},
   "outputs": [],
   "source": [
    "pos = []\n",
    "neg = []\n",
    "neu = []\n",
    "comp = []\n",
    "for i in range(len(elite_reviews)):\n",
    "    scores = analyzer.polarity_scores(elite_reviews.iloc[i,5])\n",
    "    pos.append(scores['pos'])\n",
    "    neg.append(scores['neg'])\n",
    "    neu.append(scores['neu'])\n",
    "    comp.append(scores['compound'])\n",
    "#analyzer.polarity_scores('best')"
   ]
  },
  {
   "cell_type": "code",
   "execution_count": 97,
   "metadata": {
    "scrolled": true
   },
   "outputs": [
    {
     "data": {
      "text/plain": [
       "4173"
      ]
     },
     "execution_count": 97,
     "metadata": {},
     "output_type": "execute_result"
    }
   ],
   "source": [
    "len(set(elite_reviews['business_id']))"
   ]
  },
  {
   "cell_type": "code",
   "execution_count": 98,
   "metadata": {},
   "outputs": [],
   "source": [
    "scores = pd.DataFrame({'Positive':pos, 'Negative':neg, 'Neutral':neu, 'Compound':comp})"
   ]
  },
  {
   "cell_type": "code",
   "execution_count": 99,
   "metadata": {},
   "outputs": [],
   "source": [
    "elite_reviews_scores = pd.concat([elite_reviews,scores], axis = 1, sort = False)"
   ]
  },
  {
   "cell_type": "code",
   "execution_count": 109,
   "metadata": {},
   "outputs": [],
   "source": [
    "elite_reviews_scores.to_csv('elite_reviews_scores.csv')"
   ]
  },
  {
   "cell_type": "code",
   "execution_count": 100,
   "metadata": {
    "scrolled": true
   },
   "outputs": [
    {
     "data": {
      "text/html": [
       "<div>\n",
       "<style scoped>\n",
       "    .dataframe tbody tr th:only-of-type {\n",
       "        vertical-align: middle;\n",
       "    }\n",
       "\n",
       "    .dataframe tbody tr th {\n",
       "        vertical-align: top;\n",
       "    }\n",
       "\n",
       "    .dataframe thead th {\n",
       "        text-align: right;\n",
       "    }\n",
       "</style>\n",
       "<table border=\"1\" class=\"dataframe\">\n",
       "  <thead>\n",
       "    <tr style=\"text-align: right;\">\n",
       "      <th></th>\n",
       "      <th>review_id</th>\n",
       "      <th>user_id</th>\n",
       "      <th>business_id</th>\n",
       "      <th>stars</th>\n",
       "      <th>date</th>\n",
       "      <th>text</th>\n",
       "      <th>useful</th>\n",
       "      <th>funny</th>\n",
       "      <th>cool</th>\n",
       "      <th># elite years</th>\n",
       "      <th>Positive</th>\n",
       "      <th>Negative</th>\n",
       "      <th>Neutral</th>\n",
       "      <th>Compound</th>\n",
       "    </tr>\n",
       "  </thead>\n",
       "  <tbody>\n",
       "    <tr>\n",
       "      <th>0</th>\n",
       "      <td>w41ZS9shepfO3uEyhXEWuQ</td>\n",
       "      <td>u0LXt3Uea_GidxRW1xcsfg</td>\n",
       "      <td>5r6-G9C4YLbC7Ziz57l3rQ</td>\n",
       "      <td>3</td>\n",
       "      <td>2013-02-09</td>\n",
       "      <td>Not bad!! Love that there is a gluten-free, ve...</td>\n",
       "      <td>1</td>\n",
       "      <td>0</td>\n",
       "      <td>0</td>\n",
       "      <td>6</td>\n",
       "      <td>0.289</td>\n",
       "      <td>0.041</td>\n",
       "      <td>0.671</td>\n",
       "      <td>0.9400</td>\n",
       "    </tr>\n",
       "    <tr>\n",
       "      <th>1</th>\n",
       "      <td>lsoSqIrrDbQvWpMvsSj2xw</td>\n",
       "      <td>u0LXt3Uea_GidxRW1xcsfg</td>\n",
       "      <td>RtUvSWO_UZ8V3Wpj0n077w</td>\n",
       "      <td>3</td>\n",
       "      <td>2012-12-03</td>\n",
       "      <td>Wanted to check out this place due to all the ...</td>\n",
       "      <td>2</td>\n",
       "      <td>1</td>\n",
       "      <td>1</td>\n",
       "      <td>6</td>\n",
       "      <td>0.139</td>\n",
       "      <td>0.045</td>\n",
       "      <td>0.817</td>\n",
       "      <td>0.8639</td>\n",
       "    </tr>\n",
       "    <tr>\n",
       "      <th>2</th>\n",
       "      <td>FunI9om-aK5oMIIJmhMlZA</td>\n",
       "      <td>u0LXt3Uea_GidxRW1xcsfg</td>\n",
       "      <td>0W4lkclzZThpx3V65bVgig</td>\n",
       "      <td>4</td>\n",
       "      <td>2011-09-28</td>\n",
       "      <td>a must stop when you are in montreal!\\n\\nI was...</td>\n",
       "      <td>0</td>\n",
       "      <td>0</td>\n",
       "      <td>0</td>\n",
       "      <td>6</td>\n",
       "      <td>0.190</td>\n",
       "      <td>0.032</td>\n",
       "      <td>0.778</td>\n",
       "      <td>0.9551</td>\n",
       "    </tr>\n",
       "    <tr>\n",
       "      <th>3</th>\n",
       "      <td>K7o5jDInfmX3cY5oH6ATNw</td>\n",
       "      <td>u0LXt3Uea_GidxRW1xcsfg</td>\n",
       "      <td>oWTn2IzrprsRkPfULtjZtQ</td>\n",
       "      <td>3</td>\n",
       "      <td>2012-09-23</td>\n",
       "      <td>Came here for a burger as one of my friends sa...</td>\n",
       "      <td>4</td>\n",
       "      <td>0</td>\n",
       "      <td>0</td>\n",
       "      <td>6</td>\n",
       "      <td>0.208</td>\n",
       "      <td>0.048</td>\n",
       "      <td>0.745</td>\n",
       "      <td>0.8529</td>\n",
       "    </tr>\n",
       "    <tr>\n",
       "      <th>4</th>\n",
       "      <td>WYDFJOBOl7cycd7gN-c_xA</td>\n",
       "      <td>u0LXt3Uea_GidxRW1xcsfg</td>\n",
       "      <td>zgQHtqX0gqMw1nlBZl2VnQ</td>\n",
       "      <td>1</td>\n",
       "      <td>2012-10-30</td>\n",
       "      <td>really excited to hear of this restaurant comi...</td>\n",
       "      <td>9</td>\n",
       "      <td>2</td>\n",
       "      <td>1</td>\n",
       "      <td>6</td>\n",
       "      <td>0.111</td>\n",
       "      <td>0.096</td>\n",
       "      <td>0.793</td>\n",
       "      <td>0.4985</td>\n",
       "    </tr>\n",
       "  </tbody>\n",
       "</table>\n",
       "</div>"
      ],
      "text/plain": [
       "                review_id                 user_id             business_id  \\\n",
       "0  w41ZS9shepfO3uEyhXEWuQ  u0LXt3Uea_GidxRW1xcsfg  5r6-G9C4YLbC7Ziz57l3rQ   \n",
       "1  lsoSqIrrDbQvWpMvsSj2xw  u0LXt3Uea_GidxRW1xcsfg  RtUvSWO_UZ8V3Wpj0n077w   \n",
       "2  FunI9om-aK5oMIIJmhMlZA  u0LXt3Uea_GidxRW1xcsfg  0W4lkclzZThpx3V65bVgig   \n",
       "3  K7o5jDInfmX3cY5oH6ATNw  u0LXt3Uea_GidxRW1xcsfg  oWTn2IzrprsRkPfULtjZtQ   \n",
       "4  WYDFJOBOl7cycd7gN-c_xA  u0LXt3Uea_GidxRW1xcsfg  zgQHtqX0gqMw1nlBZl2VnQ   \n",
       "\n",
       "   stars        date                                               text  \\\n",
       "0      3  2013-02-09  Not bad!! Love that there is a gluten-free, ve...   \n",
       "1      3  2012-12-03  Wanted to check out this place due to all the ...   \n",
       "2      4  2011-09-28  a must stop when you are in montreal!\\n\\nI was...   \n",
       "3      3  2012-09-23  Came here for a burger as one of my friends sa...   \n",
       "4      1  2012-10-30  really excited to hear of this restaurant comi...   \n",
       "\n",
       "   useful  funny  cool  # elite years  Positive  Negative  Neutral  Compound  \n",
       "0       1      0     0              6     0.289     0.041    0.671    0.9400  \n",
       "1       2      1     1              6     0.139     0.045    0.817    0.8639  \n",
       "2       0      0     0              6     0.190     0.032    0.778    0.9551  \n",
       "3       4      0     0              6     0.208     0.048    0.745    0.8529  \n",
       "4       9      2     1              6     0.111     0.096    0.793    0.4985  "
      ]
     },
     "execution_count": 100,
     "metadata": {},
     "output_type": "execute_result"
    }
   ],
   "source": [
    "elite_reviews_scores.head()"
   ]
  },
  {
   "cell_type": "code",
   "execution_count": 115,
   "metadata": {
    "scrolled": false
   },
   "outputs": [
    {
     "data": {
      "image/png": "[encoded data removed]",
      "text/plain": [
       "<Figure size 1440x720 with 1 Axes>"
      ]
     },
     "metadata": {},
     "output_type": "display_data"
    }
   ],
   "source": [
    "plt.figure(figsize=(20,10))\n",
    "plt.scatter(elite_reviews_scores['Compound'][0:2000], elite_reviews_scores['stars'][0:2000], alpha = 0.25)\n",
    "plt.show()"
   ]
  },
  {
   "cell_type": "code",
   "execution_count": null,
   "metadata": {},
   "outputs": [],
   "source": [
    "stars1 = elite_reviews_scores[elite_reviews_scores['stars'] == 1]['Compound']\n",
    "stars2 = elite_reviews_scores[elite_reviews_scores['stars'] == 2]['Compound']\n",
    "stars3 = elite_reviews_scores[elite_reviews_scores['stars'] == 3]['Compound']\n",
    "stars4 = elite_reviews_scores[elite_reviews_scores['stars'] == 4]['Compound']\n",
    "stars5 = elite_reviews_scores[elite_reviews_scores['stars'] == 5]['Compound']\n",
    "data_by_star = [stars1,stars2,stars3,stars4,stars5]"
   ]
  },
  {
   "cell_type": "code",
   "execution_count": 125,
   "metadata": {},
   "outputs": [
    {
     "data": {
      "image/png": "[encoded data removed]",
      "text/plain": [
       "<Figure size 1440x1440 with 1 Axes>"
      ]
     },
     "metadata": {},
     "output_type": "display_data"
    }
   ],
   "source": [
    "plt.figure(figsize=(20,20))\n",
    "plt.boxplot(data_by_star, showmeans=True)\n",
    "plt.title('Elite Reviews')\n",
    "plt.xlabel('Number of Stars')\n",
    "plt.ylabel('Compound Score')\n",
    "plt.savefig('eliteboxplot.png')\n",
    "plt.show()\n"
   ]
  },
  {
   "cell_type": "code",
   "execution_count": null,
   "metadata": {},
   "outputs": [],
   "source": []
  },
  {
   "cell_type": "markdown",
   "metadata": {},
   "source": [
    "Export elite reviews to csv."
   ]
  },
  {
   "cell_type": "code",
   "execution_count": null,
   "metadata": {
    "scrolled": true
   },
   "outputs": [],
   "source": [
    "elite_reviews.to_csv('elite_reviews.csv')"
   ]
  },
  {
   "cell_type": "code",
   "execution_count": null,
   "metadata": {
    "scrolled": true
   },
   "outputs": [],
   "source": [
    "row_users.head()"
   ]
  },
  {
   "cell_type": "markdown",
   "metadata": {},
   "source": [
    "Create dataframe with reviews that were written only by non-elite users."
   ]
  },
  {
   "cell_type": "code",
   "execution_count": 110,
   "metadata": {},
   "outputs": [],
   "source": [
    "row_reviews = pd.merge(reviews, row_users[['user_id','friends']], on = 'user_id', how = 'inner')"
   ]
  },
  {
   "cell_type": "markdown",
   "metadata": {},
   "source": [
    "Reduce row reviews down to include only elite reviewed businesses."
   ]
  },
  {
   "cell_type": "code",
   "execution_count": 111,
   "metadata": {},
   "outputs": [],
   "source": [
    "row_reviews = row_reviews[row_reviews['business_id'].isin(elite_reviewed_business.index)]"
   ]
  },
  {
   "cell_type": "code",
   "execution_count": 116,
   "metadata": {},
   "outputs": [],
   "source": [
    "row_reviews = row_reviews.reset_index(drop = True)"
   ]
  },
  {
   "cell_type": "code",
   "execution_count": 117,
   "metadata": {},
   "outputs": [],
   "source": [
    "pos_row = []\n",
    "neg_row = []\n",
    "neu_row = []\n",
    "comp_row = []\n",
    "for i in range(len(row_reviews)):\n",
    "    scores = analyzer.polarity_scores(row_reviews.iloc[i,5])\n",
    "    pos_row.append(scores['pos'])\n",
    "    neg_row.append(scores['neg'])\n",
    "    neu_row.append(scores['neu'])\n",
    "    comp_row.append(scores['compound'])"
   ]
  },
  {
   "cell_type": "code",
   "execution_count": 118,
   "metadata": {},
   "outputs": [],
   "source": [
    "scores_row = pd.DataFrame({'Positive':pos_row, 'Negative':neg_row, 'Neutral':neu_row, 'Compound':comp_row})"
   ]
  },
  {
   "cell_type": "code",
   "execution_count": 120,
   "metadata": {},
   "outputs": [],
   "source": [
    "row_reviews_scores = pd.concat([row_reviews,scores_row], axis = 1, sort = False)"
   ]
  },
  {
   "cell_type": "code",
   "execution_count": 121,
   "metadata": {},
   "outputs": [],
   "source": [
    "row_reviews_scores.to_csv('row_reviews_scores.csv')"
   ]
  },
  {
   "cell_type": "code",
   "execution_count": 127,
   "metadata": {},
   "outputs": [],
   "source": [
    "row_stars1 = row_reviews_scores[row_reviews_scores['stars'] == 1]['Compound']\n",
    "row_stars2 = row_reviews_scores[row_reviews_scores['stars'] == 2]['Compound']\n",
    "row_stars3 = row_reviews_scores[row_reviews_scores['stars'] == 3]['Compound']\n",
    "row_stars4 = row_reviews_scores[row_reviews_scores['stars'] == 4]['Compound']\n",
    "row_stars5 = row_reviews_scores[row_reviews_scores['stars'] == 5]['Compound']\n",
    "row_data_by_star = [row_stars1,row_stars2,row_stars3,row_stars4,row_stars5]"
   ]
  },
  {
   "cell_type": "code",
   "execution_count": 128,
   "metadata": {},
   "outputs": [
    {
     "data": {
      "image/png": "[encoded data removed]",
      "text/plain": [
       "<Figure size 1440x1440 with 1 Axes>"
      ]
     },
     "metadata": {},
     "output_type": "display_data"
    }
   ],
   "source": [
    "plt.figure(figsize=(20,20))\n",
    "plt.boxplot(row_data_by_star, showmeans=True)\n",
    "plt.title('Non-Elite Users')\n",
    "plt.xlabel('Number of Stars')\n",
    "plt.ylabel('Compound Score')\n",
    "plt.savefig('rowboxplot.png')\n",
    "plt.show()"
   ]
  },
  {
   "cell_type": "code",
   "execution_count": null,
   "metadata": {
    "scrolled": false
   },
   "outputs": [],
   "source": [
    "row_reviews.describe()"
   ]
  },
  {
   "cell_type": "markdown",
   "metadata": {},
   "source": [
    "Export row reviews to csv"
   ]
  },
  {
   "cell_type": "code",
   "execution_count": 46,
   "metadata": {},
   "outputs": [],
   "source": [
    "row_reviews.to_csv('row_reviews.csv')"
   ]
  },
  {
   "cell_type": "code",
   "execution_count": 129,
   "metadata": {},
   "outputs": [],
   "source": [
    "import scipy.stats as stats"
   ]
  },
  {
   "cell_type": "code",
   "execution_count": 130,
   "metadata": {},
   "outputs": [
    {
     "data": {
      "text/plain": [
       "F_onewayResult(statistic=32904.944968903925, pvalue=0.0)"
      ]
     },
     "execution_count": 130,
     "metadata": {},
     "output_type": "execute_result"
    }
   ],
   "source": [
    "stats.f_oneway(stars1,stars2,stars3,stars4,stars5)"
   ]
  },
  {
   "cell_type": "code",
   "execution_count": 133,
   "metadata": {},
   "outputs": [
    {
     "data": {
      "text/plain": [
       "F_onewayResult(statistic=757.0982481887414, pvalue=1.7274831865116672e-166)"
      ]
     },
     "execution_count": 133,
     "metadata": {},
     "output_type": "execute_result"
    }
   ],
   "source": [
    "stats.f_oneway(stars4,stars5)"
   ]
  },
  {
   "cell_type": "code",
   "execution_count": 137,
   "metadata": {},
   "outputs": [
    {
     "data": {
      "text/plain": [
       "Ttest_indResult(statistic=-27.51541837204606, pvalue=1.7274831859935625e-166)"
      ]
     },
     "execution_count": 137,
     "metadata": {},
     "output_type": "execute_result"
    }
   ],
   "source": [
    "stats.ttest_ind(stars4,stars5,equal_var=True)"
   ]
  },
  {
   "cell_type": "code",
   "execution_count": 136,
   "metadata": {},
   "outputs": [
    {
     "data": {
      "text/plain": [
       "{'whiskers': [<matplotlib.lines.Line2D at 0x21093adf208>,\n",
       "  <matplotlib.lines.Line2D at 0x21093adf6a0>,\n",
       "  <matplotlib.lines.Line2D at 0x21093ad0ba8>,\n",
       "  <matplotlib.lines.Line2D at 0x21093ad0fd0>],\n",
       " 'caps': [<matplotlib.lines.Line2D at 0x21093adfac8>,\n",
       "  <matplotlib.lines.Line2D at 0x21093adfef0>,\n",
       "  <matplotlib.lines.Line2D at 0x21093af2438>,\n",
       "  <matplotlib.lines.Line2D at 0x21093af2860>],\n",
       " 'boxes': [<matplotlib.lines.Line2D at 0x21093adf0b8>,\n",
       "  <matplotlib.lines.Line2D at 0x21093ad0780>],\n",
       " 'medians': [<matplotlib.lines.Line2D at 0x21093ad0358>,\n",
       "  <matplotlib.lines.Line2D at 0x21093af2c88>],\n",
       " 'fliers': [],\n",
       " 'means': []}"
      ]
     },
     "execution_count": 136,
     "metadata": {},
     "output_type": "execute_result"
    },
    {
     "data": {
      "image/png": "[encoded data removed]",
      "text/plain": [
       "<Figure size 432x288 with 1 Axes>"
      ]
     },
     "metadata": {},
     "output_type": "display_data"
    }
   ],
   "source": [
    "plt.boxplot([stars4,stars5], showfliers=False)"
   ]
  },
  {
   "cell_type": "code",
   "execution_count": 131,
   "metadata": {},
   "outputs": [
    {
     "data": {
      "text/plain": [
       "F_onewayResult(statistic=192982.23788152717, pvalue=0.0)"
      ]
     },
     "execution_count": 131,
     "metadata": {},
     "output_type": "execute_result"
    }
   ],
   "source": [
    "stats.f_oneway(row_stars1,row_stars2,row_stars3,row_stars4,row_stars5)"
   ]
  },
  {
   "cell_type": "code",
   "execution_count": 147,
   "metadata": {},
   "outputs": [
    {
     "data": {
      "text/plain": [
       "MannwhitneyuResult(statistic=123342844804.0, pvalue=0.0)"
      ]
     },
     "execution_count": 147,
     "metadata": {},
     "output_type": "execute_result"
    }
   ],
   "source": [
    "elite_reviews_scores_45 = elite_reviews_scores[elite_reviews_scores['stars']>=4]\n",
    "stats.mannwhitneyu(elite_reviews_scores_45['stars'],elite_reviews_scores_45['Compound'], alternative='greater')"
   ]
  },
  {
   "cell_type": "code",
   "execution_count": 148,
   "metadata": {},
   "outputs": [
    {
     "data": {
      "text/plain": [
       "MannwhitneyuResult(statistic=123342844804.0, pvalue=1.0)"
      ]
     },
     "execution_count": 148,
     "metadata": {},
     "output_type": "execute_result"
    }
   ],
   "source": [
    "elite_reviews_scores_45 = elite_reviews_scores[elite_reviews_scores['stars']>=4]\n",
    "stats.mannwhitneyu(elite_reviews_scores_45['stars'],elite_reviews_scores_45['Compound'], alternative='less')"
   ]
  },
  {
   "cell_type": "code",
   "execution_count": 144,
   "metadata": {
    "scrolled": false
   },
   "outputs": [
    {
     "data": {
      "text/plain": [
       "(array([  74.,  145.,  160.,  175.,  183.,  169.,  167.,  158.,  190.,\n",
       "         189.,  132.,  157.,  143.,  146.,  135.,  118.,  125.,  152.,\n",
       "         124.,  117.,  138.,  110.,  112.,  126.,  107.,  110.,  100.,\n",
       "         104.,  100.,   89.,  106.,  100.,   95.,   99.,   72.,  110.,\n",
       "          85.,   88.,   87.,   98.,   89.,   82.,   83.,   62.,   90.,\n",
       "          75.,   66.,   98.,   75.,   59.,   88.,   60.,   93.,   66.,\n",
       "          91.,   62.,   66.,   68.,   51.,   77.,   75.,   80.,   70.,\n",
       "          70.,   54.,   84.,   43.,   82.,   69.,   61.,   86.,   48.,\n",
       "          73.,   61.,   72.,   56.,   52.,   78.,   55.,   79.,   58.,\n",
       "          49.,   71.,   45.,   66.,   54.,   32.,   61.,   43.,   71.,\n",
       "          45.,   31.,   56.,   27.,   51.,   24.,   32.,   53.,   45.,\n",
       "         257.,   34.,   41.,   50.,   39.,   19.,   45.,   33.,   72.,\n",
       "          44.,   43.,   67.,   55.,   61.,   33.,   46.,   80.,   59.,\n",
       "          65.,   56.,   49.,   83.,   52.,   98.,   64.,   90.,   53.,\n",
       "          65.,   93.,   72.,  107.,   86.,  107.,   78.,  107.,   78.,\n",
       "          89.,  116.,   74.,  104.,   76.,  118.,   89.,  115.,  105.,\n",
       "         149.,  131.,  104.,  122.,   80.,  130.,  101.,  120.,  125.,\n",
       "          96.,  136.,  126.,   99.,  142.,  147.,  157.,  108.,  153.,\n",
       "         157.,  210.,  165.,  157.,  157.,  164.,  185.,  208.,  209.,\n",
       "         229.,  190.,  231.,  221.,  264.,  267.,  272.,  289.,  339.,\n",
       "         321.,  356.,  376.,  390.,  395.,  433.,  451.,  527.,  562.,\n",
       "         609.,  705.,  783.,  846.,  992., 1131., 1367., 1684., 2028.,\n",
       "        2675., 2571.]),\n",
       " array([-9.986000e-01, -9.886085e-01, -9.786170e-01, -9.686255e-01,\n",
       "        -9.586340e-01, -9.486425e-01, -9.386510e-01, -9.286595e-01,\n",
       "        -9.186680e-01, -9.086765e-01, -8.986850e-01, -8.886935e-01,\n",
       "        -8.787020e-01, -8.687105e-01, -8.587190e-01, -8.487275e-01,\n",
       "        -8.387360e-01, -8.287445e-01, -8.187530e-01, -8.087615e-01,\n",
       "        -7.987700e-01, -7.887785e-01, -7.787870e-01, -7.687955e-01,\n",
       "        -7.588040e-01, -7.488125e-01, -7.388210e-01, -7.288295e-01,\n",
       "        -7.188380e-01, -7.088465e-01, -6.988550e-01, -6.888635e-01,\n",
       "        -6.788720e-01, -6.688805e-01, -6.588890e-01, -6.488975e-01,\n",
       "        -6.389060e-01, -6.289145e-01, -6.189230e-01, -6.089315e-01,\n",
       "        -5.989400e-01, -5.889485e-01, -5.789570e-01, -5.689655e-01,\n",
       "        -5.589740e-01, -5.489825e-01, -5.389910e-01, -5.289995e-01,\n",
       "        -5.190080e-01, -5.090165e-01, -4.990250e-01, -4.890335e-01,\n",
       "        -4.790420e-01, -4.690505e-01, -4.590590e-01, -4.490675e-01,\n",
       "        -4.390760e-01, -4.290845e-01, -4.190930e-01, -4.091015e-01,\n",
       "        -3.991100e-01, -3.891185e-01, -3.791270e-01, -3.691355e-01,\n",
       "        -3.591440e-01, -3.491525e-01, -3.391610e-01, -3.291695e-01,\n",
       "        -3.191780e-01, -3.091865e-01, -2.991950e-01, -2.892035e-01,\n",
       "        -2.792120e-01, -2.692205e-01, -2.592290e-01, -2.492375e-01,\n",
       "        -2.392460e-01, -2.292545e-01, -2.192630e-01, -2.092715e-01,\n",
       "        -1.992800e-01, -1.892885e-01, -1.792970e-01, -1.693055e-01,\n",
       "        -1.593140e-01, -1.493225e-01, -1.393310e-01, -1.293395e-01,\n",
       "        -1.193480e-01, -1.093565e-01, -9.936500e-02, -8.937350e-02,\n",
       "        -7.938200e-02, -6.939050e-02, -5.939900e-02, -4.940750e-02,\n",
       "        -3.941600e-02, -2.942450e-02, -1.943300e-02, -9.441500e-03,\n",
       "         5.500000e-04,  1.054150e-02,  2.053300e-02,  3.052450e-02,\n",
       "         4.051600e-02,  5.050750e-02,  6.049900e-02,  7.049050e-02,\n",
       "         8.048200e-02,  9.047350e-02,  1.004650e-01,  1.104565e-01,\n",
       "         1.204480e-01,  1.304395e-01,  1.404310e-01,  1.504225e-01,\n",
       "         1.604140e-01,  1.704055e-01,  1.803970e-01,  1.903885e-01,\n",
       "         2.003800e-01,  2.103715e-01,  2.203630e-01,  2.303545e-01,\n",
       "         2.403460e-01,  2.503375e-01,  2.603290e-01,  2.703205e-01,\n",
       "         2.803120e-01,  2.903035e-01,  3.002950e-01,  3.102865e-01,\n",
       "         3.202780e-01,  3.302695e-01,  3.402610e-01,  3.502525e-01,\n",
       "         3.602440e-01,  3.702355e-01,  3.802270e-01,  3.902185e-01,\n",
       "         4.002100e-01,  4.102015e-01,  4.201930e-01,  4.301845e-01,\n",
       "         4.401760e-01,  4.501675e-01,  4.601590e-01,  4.701505e-01,\n",
       "         4.801420e-01,  4.901335e-01,  5.001250e-01,  5.101165e-01,\n",
       "         5.201080e-01,  5.300995e-01,  5.400910e-01,  5.500825e-01,\n",
       "         5.600740e-01,  5.700655e-01,  5.800570e-01,  5.900485e-01,\n",
       "         6.000400e-01,  6.100315e-01,  6.200230e-01,  6.300145e-01,\n",
       "         6.400060e-01,  6.499975e-01,  6.599890e-01,  6.699805e-01,\n",
       "         6.799720e-01,  6.899635e-01,  6.999550e-01,  7.099465e-01,\n",
       "         7.199380e-01,  7.299295e-01,  7.399210e-01,  7.499125e-01,\n",
       "         7.599040e-01,  7.698955e-01,  7.798870e-01,  7.898785e-01,\n",
       "         7.998700e-01,  8.098615e-01,  8.198530e-01,  8.298445e-01,\n",
       "         8.398360e-01,  8.498275e-01,  8.598190e-01,  8.698105e-01,\n",
       "         8.798020e-01,  8.897935e-01,  8.997850e-01,  9.097765e-01,\n",
       "         9.197680e-01,  9.297595e-01,  9.397510e-01,  9.497425e-01,\n",
       "         9.597340e-01,  9.697255e-01,  9.797170e-01,  9.897085e-01,\n",
       "         9.997000e-01]),\n",
       " <a list of 200 Patch objects>)"
      ]
     },
     "execution_count": 144,
     "metadata": {},
     "output_type": "execute_result"
    },
    {
     "data": {
      "image/png": "[encoded data removed]",
      "text/plain": [
       "<Figure size 432x288 with 1 Axes>"
      ]
     },
     "metadata": {},
     "output_type": "display_data"
    }
   ],
   "source": [
    "plt.hist(row_stars1, bins = 200, alpha = 0.5)\n",
    "plt.hist(stars2, bins = 200, alpha = 0.5)"
   ]
  },
  {
   "cell_type": "code",
   "execution_count": 150,
   "metadata": {
    "scrolled": true
   },
   "outputs": [
    {
     "name": "stderr",
     "output_type": "stream",
     "text": [
      "C:\\Users\\johng\\Anaconda3\\envs\\PythonData\\lib\\site-packages\\sklearn\\cross_validation.py:41: DeprecationWarning: This module was deprecated in version 0.18 in favor of the model_selection module into which all the refactored classes and functions are moved. Also note that the interface of the new CV iterators are different from that of this module. This module will be removed in 0.20.\n",
      "  \"This module will be removed in 0.20.\", DeprecationWarning)\n"
     ]
    }
   ],
   "source": [
    "from sklearn.cross_validation import train_test_split"
   ]
  },
  {
   "cell_type": "code",
   "execution_count": 151,
   "metadata": {},
   "outputs": [
    {
     "data": {
      "text/html": [
       "<div>\n",
       "<style scoped>\n",
       "    .dataframe tbody tr th:only-of-type {\n",
       "        vertical-align: middle;\n",
       "    }\n",
       "\n",
       "    .dataframe tbody tr th {\n",
       "        vertical-align: top;\n",
       "    }\n",
       "\n",
       "    .dataframe thead th {\n",
       "        text-align: right;\n",
       "    }\n",
       "</style>\n",
       "<table border=\"1\" class=\"dataframe\">\n",
       "  <thead>\n",
       "    <tr style=\"text-align: right;\">\n",
       "      <th></th>\n",
       "      <th>review_id</th>\n",
       "      <th>user_id</th>\n",
       "      <th>business_id</th>\n",
       "      <th>stars</th>\n",
       "      <th>date</th>\n",
       "      <th>text</th>\n",
       "      <th>useful</th>\n",
       "      <th>funny</th>\n",
       "      <th>cool</th>\n",
       "      <th># elite years</th>\n",
       "      <th>Positive</th>\n",
       "      <th>Negative</th>\n",
       "      <th>Neutral</th>\n",
       "      <th>Compound</th>\n",
       "    </tr>\n",
       "  </thead>\n",
       "  <tbody>\n",
       "    <tr>\n",
       "      <th>0</th>\n",
       "      <td>w41ZS9shepfO3uEyhXEWuQ</td>\n",
       "      <td>u0LXt3Uea_GidxRW1xcsfg</td>\n",
       "      <td>5r6-G9C4YLbC7Ziz57l3rQ</td>\n",
       "      <td>3</td>\n",
       "      <td>2013-02-09</td>\n",
       "      <td>Not bad!! Love that there is a gluten-free, ve...</td>\n",
       "      <td>1</td>\n",
       "      <td>0</td>\n",
       "      <td>0</td>\n",
       "      <td>6</td>\n",
       "      <td>0.289</td>\n",
       "      <td>0.041</td>\n",
       "      <td>0.671</td>\n",
       "      <td>0.9400</td>\n",
       "    </tr>\n",
       "    <tr>\n",
       "      <th>1</th>\n",
       "      <td>lsoSqIrrDbQvWpMvsSj2xw</td>\n",
       "      <td>u0LXt3Uea_GidxRW1xcsfg</td>\n",
       "      <td>RtUvSWO_UZ8V3Wpj0n077w</td>\n",
       "      <td>3</td>\n",
       "      <td>2012-12-03</td>\n",
       "      <td>Wanted to check out this place due to all the ...</td>\n",
       "      <td>2</td>\n",
       "      <td>1</td>\n",
       "      <td>1</td>\n",
       "      <td>6</td>\n",
       "      <td>0.139</td>\n",
       "      <td>0.045</td>\n",
       "      <td>0.817</td>\n",
       "      <td>0.8639</td>\n",
       "    </tr>\n",
       "    <tr>\n",
       "      <th>2</th>\n",
       "      <td>FunI9om-aK5oMIIJmhMlZA</td>\n",
       "      <td>u0LXt3Uea_GidxRW1xcsfg</td>\n",
       "      <td>0W4lkclzZThpx3V65bVgig</td>\n",
       "      <td>4</td>\n",
       "      <td>2011-09-28</td>\n",
       "      <td>a must stop when you are in montreal!\\n\\nI was...</td>\n",
       "      <td>0</td>\n",
       "      <td>0</td>\n",
       "      <td>0</td>\n",
       "      <td>6</td>\n",
       "      <td>0.190</td>\n",
       "      <td>0.032</td>\n",
       "      <td>0.778</td>\n",
       "      <td>0.9551</td>\n",
       "    </tr>\n",
       "    <tr>\n",
       "      <th>3</th>\n",
       "      <td>K7o5jDInfmX3cY5oH6ATNw</td>\n",
       "      <td>u0LXt3Uea_GidxRW1xcsfg</td>\n",
       "      <td>oWTn2IzrprsRkPfULtjZtQ</td>\n",
       "      <td>3</td>\n",
       "      <td>2012-09-23</td>\n",
       "      <td>Came here for a burger as one of my friends sa...</td>\n",
       "      <td>4</td>\n",
       "      <td>0</td>\n",
       "      <td>0</td>\n",
       "      <td>6</td>\n",
       "      <td>0.208</td>\n",
       "      <td>0.048</td>\n",
       "      <td>0.745</td>\n",
       "      <td>0.8529</td>\n",
       "    </tr>\n",
       "    <tr>\n",
       "      <th>4</th>\n",
       "      <td>WYDFJOBOl7cycd7gN-c_xA</td>\n",
       "      <td>u0LXt3Uea_GidxRW1xcsfg</td>\n",
       "      <td>zgQHtqX0gqMw1nlBZl2VnQ</td>\n",
       "      <td>1</td>\n",
       "      <td>2012-10-30</td>\n",
       "      <td>really excited to hear of this restaurant comi...</td>\n",
       "      <td>9</td>\n",
       "      <td>2</td>\n",
       "      <td>1</td>\n",
       "      <td>6</td>\n",
       "      <td>0.111</td>\n",
       "      <td>0.096</td>\n",
       "      <td>0.793</td>\n",
       "      <td>0.4985</td>\n",
       "    </tr>\n",
       "  </tbody>\n",
       "</table>\n",
       "</div>"
      ],
      "text/plain": [
       "                review_id                 user_id             business_id  \\\n",
       "0  w41ZS9shepfO3uEyhXEWuQ  u0LXt3Uea_GidxRW1xcsfg  5r6-G9C4YLbC7Ziz57l3rQ   \n",
       "1  lsoSqIrrDbQvWpMvsSj2xw  u0LXt3Uea_GidxRW1xcsfg  RtUvSWO_UZ8V3Wpj0n077w   \n",
       "2  FunI9om-aK5oMIIJmhMlZA  u0LXt3Uea_GidxRW1xcsfg  0W4lkclzZThpx3V65bVgig   \n",
       "3  K7o5jDInfmX3cY5oH6ATNw  u0LXt3Uea_GidxRW1xcsfg  oWTn2IzrprsRkPfULtjZtQ   \n",
       "4  WYDFJOBOl7cycd7gN-c_xA  u0LXt3Uea_GidxRW1xcsfg  zgQHtqX0gqMw1nlBZl2VnQ   \n",
       "\n",
       "   stars        date                                               text  \\\n",
       "0      3  2013-02-09  Not bad!! Love that there is a gluten-free, ve...   \n",
       "1      3  2012-12-03  Wanted to check out this place due to all the ...   \n",
       "2      4  2011-09-28  a must stop when you are in montreal!\\n\\nI was...   \n",
       "3      3  2012-09-23  Came here for a burger as one of my friends sa...   \n",
       "4      1  2012-10-30  really excited to hear of this restaurant comi...   \n",
       "\n",
       "   useful  funny  cool  # elite years  Positive  Negative  Neutral  Compound  \n",
       "0       1      0     0              6     0.289     0.041    0.671    0.9400  \n",
       "1       2      1     1              6     0.139     0.045    0.817    0.8639  \n",
       "2       0      0     0              6     0.190     0.032    0.778    0.9551  \n",
       "3       4      0     0              6     0.208     0.048    0.745    0.8529  \n",
       "4       9      2     1              6     0.111     0.096    0.793    0.4985  "
      ]
     },
     "execution_count": 151,
     "metadata": {},
     "output_type": "execute_result"
    }
   ],
   "source": [
    "elite_reviews_scores.head()"
   ]
  },
  {
   "cell_type": "code",
   "execution_count": 305,
   "metadata": {},
   "outputs": [],
   "source": [
    "X = elite_reviews_scores.iloc[:,10:13].values\n",
    "y = elite_reviews_scores.iloc[:,3].values"
   ]
  },
  {
   "cell_type": "code",
   "execution_count": 306,
   "metadata": {},
   "outputs": [],
   "source": [
    "X_train, X_test, y_train, y_test = train_test_split(X, y, test_size = 0.3, random_state = 25)"
   ]
  },
  {
   "cell_type": "code",
   "execution_count": 263,
   "metadata": {},
   "outputs": [],
   "source": [
    "from sklearn.linear_model import LinearRegression\n",
    "regressor = LinearRegression()\n",
    "lm = regressor.fit(X_train, y_train)"
   ]
  },
  {
   "cell_type": "code",
   "execution_count": 275,
   "metadata": {},
   "outputs": [],
   "source": [
    "y_pred = regressor.predict(X_test)"
   ]
  },
  {
   "cell_type": "code",
   "execution_count": 274,
   "metadata": {},
   "outputs": [],
   "source": [
    "lm = regressor.fit(X_train, y_train)"
   ]
  },
  {
   "cell_type": "code",
   "execution_count": 167,
   "metadata": {},
   "outputs": [],
   "source": [
    "from sklearn.metrics import r2_score"
   ]
  },
  {
   "cell_type": "code",
   "execution_count": 276,
   "metadata": {},
   "outputs": [
    {
     "data": {
      "text/plain": [
       "0.22870846290367675"
      ]
     },
     "execution_count": 276,
     "metadata": {},
     "output_type": "execute_result"
    }
   ],
   "source": [
    "r_squared = r2_score(y_test, y_pred)\n",
    "r_squared"
   ]
  },
  {
   "cell_type": "code",
   "execution_count": 279,
   "metadata": {},
   "outputs": [
    {
     "data": {
      "text/plain": [
       "array([ 5.87369156, -2.33734631,  3.23467759,  0.43902488])"
      ]
     },
     "execution_count": 279,
     "metadata": {},
     "output_type": "execute_result"
    }
   ],
   "source": [
    "lm."
   ]
  },
  {
   "cell_type": "code",
   "execution_count": 282,
   "metadata": {},
   "outputs": [
    {
     "data": {
      "text/plain": [
       "0.2308455124763199"
      ]
     },
     "execution_count": 282,
     "metadata": {},
     "output_type": "execute_result"
    }
   ],
   "source": [
    "lm.score(X,y)"
   ]
  },
  {
   "cell_type": "code",
   "execution_count": 174,
   "metadata": {},
   "outputs": [
    {
     "ename": "AttributeError",
     "evalue": "'LinearRegression' object has no attribute 'summary'",
     "output_type": "error",
     "traceback": [
      "\u001b[1;31m---------------------------------------------------------------------------\u001b[0m",
      "\u001b[1;31mAttributeError\u001b[0m                            Traceback (most recent call last)",
      "\u001b[1;32m<ipython-input-174-496cb94781fd>\u001b[0m in \u001b[0;36m<module>\u001b[1;34m()\u001b[0m\n\u001b[1;32m----> 1\u001b[1;33m \u001b[0mregressor\u001b[0m\u001b[1;33m.\u001b[0m\u001b[0mfit\u001b[0m\u001b[1;33m(\u001b[0m\u001b[0mX_train\u001b[0m\u001b[1;33m,\u001b[0m \u001b[0my_train\u001b[0m\u001b[1;33m)\u001b[0m\u001b[1;33m.\u001b[0m\u001b[0msummary\u001b[0m\u001b[1;33m(\u001b[0m\u001b[1;33m)\u001b[0m\u001b[1;33m\u001b[0m\u001b[0m\n\u001b[0m",
      "\u001b[1;31mAttributeError\u001b[0m: 'LinearRegression' object has no attribute 'summary'"
     ]
    }
   ],
   "source": [
    "regressor.fit(X_train, y_train).summary()"
   ]
  },
  {
   "cell_type": "code",
   "execution_count": 194,
   "metadata": {},
   "outputs": [
    {
     "data": {
      "text/plain": [
       "<matplotlib.collections.PathCollection at 0x21090642f28>"
      ]
     },
     "execution_count": 194,
     "metadata": {},
     "output_type": "execute_result"
    },
    {
     "data": {
      "image/png": "[encoded data removed]",
      "text/plain": [
       "<Figure size 432x288 with 1 Axes>"
      ]
     },
     "metadata": {},
     "output_type": "display_data"
    }
   ],
   "source": [
    "plt.scatter(X_test[:,0],y_pred)"
   ]
  },
  {
   "cell_type": "code",
   "execution_count": 215,
   "metadata": {},
   "outputs": [],
   "source": [
    "from sklearn import datasets, linear_model\n",
    "from sklearn.linear_model import LinearRegression\n",
    "import statsmodels.api as sm\n",
    "from scipy import stats"
   ]
  },
  {
   "cell_type": "code",
   "execution_count": 307,
   "metadata": {},
   "outputs": [
    {
     "name": "stdout",
     "output_type": "stream",
     "text": [
      "                            OLS Regression Results                            \n",
      "==============================================================================\n",
      "Dep. Variable:                      y   R-squared:                       0.949\n",
      "Model:                            OLS   Adj. R-squared:                  0.949\n",
      "Method:                 Least Squares   F-statistic:                 2.181e+06\n",
      "Date:                Wed, 25 Jul 2018   Prob (F-statistic):               0.00\n",
      "Time:                        00:36:12   Log-Likelihood:            -4.6364e+05\n",
      "No. Observations:              351689   AIC:                         9.273e+05\n",
      "Df Residuals:                  351686   BIC:                         9.273e+05\n",
      "Df Model:                           3                                         \n",
      "Covariance Type:            nonrobust                                         \n",
      "==============================================================================\n",
      "                 coef    std err          t      P>|t|      [0.025      0.975]\n",
      "------------------------------------------------------------------------------\n",
      "x1             6.8247      0.015    452.780      0.000       6.795       6.854\n",
      "x2            -4.1905      0.039   -108.008      0.000      -4.267      -4.114\n",
      "x3             3.5575      0.005    769.226      0.000       3.548       3.567\n",
      "==============================================================================\n",
      "Omnibus:                     8558.774   Durbin-Watson:                   2.001\n",
      "Prob(Omnibus):                  0.000   Jarque-Bera (JB):             9201.359\n",
      "Skew:                          -0.396   Prob(JB):                         0.00\n",
      "Kurtosis:                       3.013   Cond. No.                         20.4\n",
      "==============================================================================\n",
      "\n",
      "Warnings:\n",
      "[1] Standard Errors assume that the covariance matrix of the errors is correctly specified.\n"
     ]
    }
   ],
   "source": [
    "X2 = sm.add_constant(X_train)\n",
    "est = sm.OLS(y_train, X_train)\n",
    "est2 = est.fit()\n",
    "print(est2.summary())"
   ]
  },
  {
   "cell_type": "code",
   "execution_count": 308,
   "metadata": {},
   "outputs": [
    {
     "data": {
      "text/plain": [
       "0.212943316840138"
      ]
     },
     "execution_count": 308,
     "metadata": {},
     "output_type": "execute_result"
    }
   ],
   "source": [
    "ypred = est2.predict(X_test)\n",
    "r_squared = r2_score(y_test, ypred)\n",
    "r_squared"
   ]
  },
  {
   "cell_type": "code",
   "execution_count": 225,
   "metadata": {
    "scrolled": true
   },
   "outputs": [
    {
     "data": {
      "text/plain": [
       "<matplotlib.collections.PathCollection at 0x21099304400>"
      ]
     },
     "execution_count": 225,
     "metadata": {},
     "output_type": "execute_result"
    },
    {
     "data": {
      "image/png": "[encoded data removed]",
      "text/plain": [
       "<Figure size 432x288 with 1 Axes>"
      ]
     },
     "metadata": {},
     "output_type": "display_data"
    }
   ],
   "source": [
    "plt.scatter(X[:,0],X[:,2])"
   ]
  },
  {
   "cell_type": "code",
   "execution_count": 239,
   "metadata": {},
   "outputs": [],
   "source": [
    "from sklearn.cluster import KMeans"
   ]
  },
  {
   "cell_type": "code",
   "execution_count": 286,
   "metadata": {},
   "outputs": [],
   "source": [
    "kmeans = KMeans(n_clusters=5, random_state=0)"
   ]
  },
  {
   "cell_type": "code",
   "execution_count": 287,
   "metadata": {},
   "outputs": [
    {
     "data": {
      "text/plain": [
       "KMeans(algorithm='auto', copy_x=True, init='k-means++', max_iter=300,\n",
       "    n_clusters=5, n_init=10, n_jobs=1, precompute_distances='auto',\n",
       "    random_state=0, tol=0.0001, verbose=0)"
      ]
     },
     "execution_count": 287,
     "metadata": {},
     "output_type": "execute_result"
    }
   ],
   "source": [
    "kmeans.fit(X_train)"
   ]
  },
  {
   "cell_type": "code",
   "execution_count": 298,
   "metadata": {
    "scrolled": true
   },
   "outputs": [],
   "source": [
    "len(kmeans.labels_)\n",
    "labels = kmeans.labels_"
   ]
  },
  {
   "cell_type": "code",
   "execution_count": 311,
   "metadata": {},
   "outputs": [
    {
     "data": {
      "text/plain": [
       "<matplotlib.collections.PathCollection at 0x21098edefd0>"
      ]
     },
     "execution_count": 311,
     "metadata": {},
     "output_type": "execute_result"
    },
    {
     "data": {
      "image/png": "[encoded data removed]",
      "text/plain": [
       "<Figure size 1440x720 with 1 Axes>"
      ]
     },
     "metadata": {},
     "output_type": "display_data"
    }
   ],
   "source": [
    "plt.figure(figsize=(20,10))\n",
    "plt.scatter(X_train[:,0],y_train, c = kmeans.labels_, alpha = 0.3)"
   ]
  },
  {
   "cell_type": "code",
   "execution_count": 304,
   "metadata": {},
   "outputs": [
    {
     "data": {
      "text/plain": [
       "-0.022429309661567722"
      ]
     },
     "execution_count": 304,
     "metadata": {},
     "output_type": "execute_result"
    }
   ],
   "source": [
    "X_train[labels == 4,3].mean()"
   ]
  },
  {
   "cell_type": "code",
   "execution_count": null,
   "metadata": {},
   "outputs": [],
   "source": []
  }
 ],
 "metadata": {
  "kernelspec": {
   "display_name": "Python [conda env:PythonData]",
   "language": "python",
   "name": "conda-env-PythonData-py"
  },
  "language_info": {
   "codemirror_mode": {
    "name": "ipython",
    "version": 3
   },
   "file_extension": ".py",
   "mimetype": "text/x-python",
   "name": "python",
   "nbconvert_exporter": "python",
   "pygments_lexer": "ipython3",
   "version": "3.6.6"
  }
 },
 "nbformat": 4,
 "nbformat_minor": 2
}
